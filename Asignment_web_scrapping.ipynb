{
 "cells": [
  {
   "cell_type": "code",
   "execution_count": 1,
   "metadata": {},
   "outputs": [],
   "source": [
    "import requests\n",
    "from bs4 import BeautifulSoup"
   ]
  },
  {
   "cell_type": "markdown",
   "metadata": {},
   "source": [
    "## task1"
   ]
  },
  {
   "cell_type": "code",
   "execution_count": 2,
   "metadata": {},
   "outputs": [],
   "source": [
    "res  = requests.get('https://www.xe.com/currencyconverter/convert/?Amount=1&From=USD&To=EGP')"
   ]
  },
  {
   "cell_type": "code",
   "execution_count": 3,
   "metadata": {},
   "outputs": [
    {
     "data": {
      "text/plain": [
       "<Response [200]>"
      ]
     },
     "execution_count": 3,
     "metadata": {},
     "output_type": "execute_result"
    }
   ],
   "source": [
    "res"
   ]
  },
  {
   "cell_type": "code",
   "execution_count": 4,
   "metadata": {},
   "outputs": [],
   "source": [
    "soup = BeautifulSoup(res.text,'html.parser')"
   ]
  },
  {
   "cell_type": "code",
   "execution_count": 5,
   "metadata": {},
   "outputs": [
    {
     "data": {
      "text/plain": [
       "bs4.BeautifulSoup"
      ]
     },
     "execution_count": 5,
     "metadata": {},
     "output_type": "execute_result"
    }
   ],
   "source": [
    "type(soup)"
   ]
  },
  {
   "cell_type": "code",
   "execution_count": 12,
   "metadata": {},
   "outputs": [],
   "source": [
    "usd = soup.find('div' , attrs = {'class' :'sc-98b4ec47-0 jnAVFH'}).text"
   ]
  },
  {
   "cell_type": "code",
   "execution_count": 16,
   "metadata": {},
   "outputs": [
    {
     "data": {
      "text/plain": [
       "['1', 'EGP', '=', '0.0196700', 'USD']"
      ]
     },
     "execution_count": 16,
     "metadata": {},
     "output_type": "execute_result"
    }
   ],
   "source": [
    "list1 = usd.split()\n",
    "list1"
   ]
  },
  {
   "cell_type": "code",
   "execution_count": 20,
   "metadata": {},
   "outputs": [
    {
     "data": {
      "text/plain": [
       "0.01967"
      ]
     },
     "execution_count": 20,
     "metadata": {},
     "output_type": "execute_result"
    }
   ],
   "source": [
    "one_doller = float(list1[-2])\n",
    "one_doller"
   ]
  },
  {
   "cell_type": "code",
   "execution_count": 23,
   "metadata": {},
   "outputs": [],
   "source": [
    "def exchange(amount) :\n",
    "    print(f'{amount} EGY = {amount * one_doller} USD' )"
   ]
  },
  {
   "cell_type": "code",
   "execution_count": 24,
   "metadata": {},
   "outputs": [
    {
     "name": "stdout",
     "output_type": "stream",
     "text": [
      "5 EGY = 0.09834999999999999 USD\n"
     ]
    }
   ],
   "source": [
    "exchange(5)"
   ]
  },
  {
   "cell_type": "markdown",
   "metadata": {},
   "source": [
    "## task3 "
   ]
  },
  {
   "cell_type": "code",
   "execution_count": 2,
   "metadata": {},
   "outputs": [],
   "source": [
    "res  = requests.get('https://books.toscrape.com/catalogue/page-1.html')"
   ]
  },
  {
   "cell_type": "code",
   "execution_count": 3,
   "metadata": {},
   "outputs": [
    {
     "data": {
      "text/plain": [
       "<Response [200]>"
      ]
     },
     "execution_count": 3,
     "metadata": {},
     "output_type": "execute_result"
    }
   ],
   "source": [
    "res"
   ]
  },
  {
   "cell_type": "code",
   "execution_count": 4,
   "metadata": {},
   "outputs": [],
   "source": [
    "soup = BeautifulSoup(res.text , 'html.parser')"
   ]
  },
  {
   "cell_type": "code",
   "execution_count": 5,
   "metadata": {},
   "outputs": [
    {
     "data": {
      "text/plain": [
       "bs4.BeautifulSoup"
      ]
     },
     "execution_count": 5,
     "metadata": {},
     "output_type": "execute_result"
    }
   ],
   "source": [
    "type(soup)"
   ]
  },
  {
   "cell_type": "code",
   "execution_count": 6,
   "metadata": {},
   "outputs": [
    {
     "data": {
      "text/plain": [
       "[<li class=\"col-xs-6 col-sm-4 col-md-3 col-lg-3\">\n",
       " <article class=\"product_pod\">\n",
       " <div class=\"image_container\">\n",
       " <a href=\"a-light-in-the-attic_1000/index.html\"><img alt=\"A Light in the Attic\" class=\"thumbnail\" src=\"../media/cache/2c/da/2cdad67c44b002e7ead0cc35693c0e8b.jpg\"/></a>\n",
       " </div>\n",
       " <p class=\"star-rating Three\">\n",
       " <i class=\"icon-star\"></i>\n",
       " <i class=\"icon-star\"></i>\n",
       " <i class=\"icon-star\"></i>\n",
       " <i class=\"icon-star\"></i>\n",
       " <i class=\"icon-star\"></i>\n",
       " </p>\n",
       " <h3><a href=\"a-light-in-the-attic_1000/index.html\" title=\"A Light in the Attic\">A Light in the ...</a></h3>\n",
       " <div class=\"product_price\">\n",
       " <p class=\"price_color\">Â£51.77</p>\n",
       " <p class=\"instock availability\">\n",
       " <i class=\"icon-ok\"></i>\n",
       "     \n",
       "         In stock\n",
       "     \n",
       " </p>\n",
       " <form>\n",
       " <button class=\"btn btn-primary btn-block\" data-loading-text=\"Adding...\" type=\"submit\">Add to basket</button>\n",
       " </form>\n",
       " </div>\n",
       " </article>\n",
       " </li>,\n",
       " <li class=\"col-xs-6 col-sm-4 col-md-3 col-lg-3\">\n",
       " <article class=\"product_pod\">\n",
       " <div class=\"image_container\">\n",
       " <a href=\"tipping-the-velvet_999/index.html\"><img alt=\"Tipping the Velvet\" class=\"thumbnail\" src=\"../media/cache/26/0c/260c6ae16bce31c8f8c95daddd9f4a1c.jpg\"/></a>\n",
       " </div>\n",
       " <p class=\"star-rating One\">\n",
       " <i class=\"icon-star\"></i>\n",
       " <i class=\"icon-star\"></i>\n",
       " <i class=\"icon-star\"></i>\n",
       " <i class=\"icon-star\"></i>\n",
       " <i class=\"icon-star\"></i>\n",
       " </p>\n",
       " <h3><a href=\"tipping-the-velvet_999/index.html\" title=\"Tipping the Velvet\">Tipping the Velvet</a></h3>\n",
       " <div class=\"product_price\">\n",
       " <p class=\"price_color\">Â£53.74</p>\n",
       " <p class=\"instock availability\">\n",
       " <i class=\"icon-ok\"></i>\n",
       "     \n",
       "         In stock\n",
       "     \n",
       " </p>\n",
       " <form>\n",
       " <button class=\"btn btn-primary btn-block\" data-loading-text=\"Adding...\" type=\"submit\">Add to basket</button>\n",
       " </form>\n",
       " </div>\n",
       " </article>\n",
       " </li>,\n",
       " <li class=\"col-xs-6 col-sm-4 col-md-3 col-lg-3\">\n",
       " <article class=\"product_pod\">\n",
       " <div class=\"image_container\">\n",
       " <a href=\"soumission_998/index.html\"><img alt=\"Soumission\" class=\"thumbnail\" src=\"../media/cache/3e/ef/3eef99c9d9adef34639f510662022830.jpg\"/></a>\n",
       " </div>\n",
       " <p class=\"star-rating One\">\n",
       " <i class=\"icon-star\"></i>\n",
       " <i class=\"icon-star\"></i>\n",
       " <i class=\"icon-star\"></i>\n",
       " <i class=\"icon-star\"></i>\n",
       " <i class=\"icon-star\"></i>\n",
       " </p>\n",
       " <h3><a href=\"soumission_998/index.html\" title=\"Soumission\">Soumission</a></h3>\n",
       " <div class=\"product_price\">\n",
       " <p class=\"price_color\">Â£50.10</p>\n",
       " <p class=\"instock availability\">\n",
       " <i class=\"icon-ok\"></i>\n",
       "     \n",
       "         In stock\n",
       "     \n",
       " </p>\n",
       " <form>\n",
       " <button class=\"btn btn-primary btn-block\" data-loading-text=\"Adding...\" type=\"submit\">Add to basket</button>\n",
       " </form>\n",
       " </div>\n",
       " </article>\n",
       " </li>,\n",
       " <li class=\"col-xs-6 col-sm-4 col-md-3 col-lg-3\">\n",
       " <article class=\"product_pod\">\n",
       " <div class=\"image_container\">\n",
       " <a href=\"sharp-objects_997/index.html\"><img alt=\"Sharp Objects\" class=\"thumbnail\" src=\"../media/cache/32/51/3251cf3a3412f53f339e42cac2134093.jpg\"/></a>\n",
       " </div>\n",
       " <p class=\"star-rating Four\">\n",
       " <i class=\"icon-star\"></i>\n",
       " <i class=\"icon-star\"></i>\n",
       " <i class=\"icon-star\"></i>\n",
       " <i class=\"icon-star\"></i>\n",
       " <i class=\"icon-star\"></i>\n",
       " </p>\n",
       " <h3><a href=\"sharp-objects_997/index.html\" title=\"Sharp Objects\">Sharp Objects</a></h3>\n",
       " <div class=\"product_price\">\n",
       " <p class=\"price_color\">Â£47.82</p>\n",
       " <p class=\"instock availability\">\n",
       " <i class=\"icon-ok\"></i>\n",
       "     \n",
       "         In stock\n",
       "     \n",
       " </p>\n",
       " <form>\n",
       " <button class=\"btn btn-primary btn-block\" data-loading-text=\"Adding...\" type=\"submit\">Add to basket</button>\n",
       " </form>\n",
       " </div>\n",
       " </article>\n",
       " </li>,\n",
       " <li class=\"col-xs-6 col-sm-4 col-md-3 col-lg-3\">\n",
       " <article class=\"product_pod\">\n",
       " <div class=\"image_container\">\n",
       " <a href=\"sapiens-a-brief-history-of-humankind_996/index.html\"><img alt=\"Sapiens: A Brief History of Humankind\" class=\"thumbnail\" src=\"../media/cache/be/a5/bea5697f2534a2f86a3ef27b5a8c12a6.jpg\"/></a>\n",
       " </div>\n",
       " <p class=\"star-rating Five\">\n",
       " <i class=\"icon-star\"></i>\n",
       " <i class=\"icon-star\"></i>\n",
       " <i class=\"icon-star\"></i>\n",
       " <i class=\"icon-star\"></i>\n",
       " <i class=\"icon-star\"></i>\n",
       " </p>\n",
       " <h3><a href=\"sapiens-a-brief-history-of-humankind_996/index.html\" title=\"Sapiens: A Brief History of Humankind\">Sapiens: A Brief History ...</a></h3>\n",
       " <div class=\"product_price\">\n",
       " <p class=\"price_color\">Â£54.23</p>\n",
       " <p class=\"instock availability\">\n",
       " <i class=\"icon-ok\"></i>\n",
       "     \n",
       "         In stock\n",
       "     \n",
       " </p>\n",
       " <form>\n",
       " <button class=\"btn btn-primary btn-block\" data-loading-text=\"Adding...\" type=\"submit\">Add to basket</button>\n",
       " </form>\n",
       " </div>\n",
       " </article>\n",
       " </li>,\n",
       " <li class=\"col-xs-6 col-sm-4 col-md-3 col-lg-3\">\n",
       " <article class=\"product_pod\">\n",
       " <div class=\"image_container\">\n",
       " <a href=\"the-requiem-red_995/index.html\"><img alt=\"The Requiem Red\" class=\"thumbnail\" src=\"../media/cache/68/33/68339b4c9bc034267e1da611ab3b34f8.jpg\"/></a>\n",
       " </div>\n",
       " <p class=\"star-rating One\">\n",
       " <i class=\"icon-star\"></i>\n",
       " <i class=\"icon-star\"></i>\n",
       " <i class=\"icon-star\"></i>\n",
       " <i class=\"icon-star\"></i>\n",
       " <i class=\"icon-star\"></i>\n",
       " </p>\n",
       " <h3><a href=\"the-requiem-red_995/index.html\" title=\"The Requiem Red\">The Requiem Red</a></h3>\n",
       " <div class=\"product_price\">\n",
       " <p class=\"price_color\">Â£22.65</p>\n",
       " <p class=\"instock availability\">\n",
       " <i class=\"icon-ok\"></i>\n",
       "     \n",
       "         In stock\n",
       "     \n",
       " </p>\n",
       " <form>\n",
       " <button class=\"btn btn-primary btn-block\" data-loading-text=\"Adding...\" type=\"submit\">Add to basket</button>\n",
       " </form>\n",
       " </div>\n",
       " </article>\n",
       " </li>,\n",
       " <li class=\"col-xs-6 col-sm-4 col-md-3 col-lg-3\">\n",
       " <article class=\"product_pod\">\n",
       " <div class=\"image_container\">\n",
       " <a href=\"the-dirty-little-secrets-of-getting-your-dream-job_994/index.html\"><img alt=\"The Dirty Little Secrets of Getting Your Dream Job\" class=\"thumbnail\" src=\"../media/cache/92/27/92274a95b7c251fea59a2b8a78275ab4.jpg\"/></a>\n",
       " </div>\n",
       " <p class=\"star-rating Four\">\n",
       " <i class=\"icon-star\"></i>\n",
       " <i class=\"icon-star\"></i>\n",
       " <i class=\"icon-star\"></i>\n",
       " <i class=\"icon-star\"></i>\n",
       " <i class=\"icon-star\"></i>\n",
       " </p>\n",
       " <h3><a href=\"the-dirty-little-secrets-of-getting-your-dream-job_994/index.html\" title=\"The Dirty Little Secrets of Getting Your Dream Job\">The Dirty Little Secrets ...</a></h3>\n",
       " <div class=\"product_price\">\n",
       " <p class=\"price_color\">Â£33.34</p>\n",
       " <p class=\"instock availability\">\n",
       " <i class=\"icon-ok\"></i>\n",
       "     \n",
       "         In stock\n",
       "     \n",
       " </p>\n",
       " <form>\n",
       " <button class=\"btn btn-primary btn-block\" data-loading-text=\"Adding...\" type=\"submit\">Add to basket</button>\n",
       " </form>\n",
       " </div>\n",
       " </article>\n",
       " </li>,\n",
       " <li class=\"col-xs-6 col-sm-4 col-md-3 col-lg-3\">\n",
       " <article class=\"product_pod\">\n",
       " <div class=\"image_container\">\n",
       " <a href=\"the-coming-woman-a-novel-based-on-the-life-of-the-infamous-feminist-victoria-woodhull_993/index.html\"><img alt=\"The Coming Woman: A Novel Based on the Life of the Infamous Feminist, Victoria Woodhull\" class=\"thumbnail\" src=\"../media/cache/3d/54/3d54940e57e662c4dd1f3ff00c78cc64.jpg\"/></a>\n",
       " </div>\n",
       " <p class=\"star-rating Three\">\n",
       " <i class=\"icon-star\"></i>\n",
       " <i class=\"icon-star\"></i>\n",
       " <i class=\"icon-star\"></i>\n",
       " <i class=\"icon-star\"></i>\n",
       " <i class=\"icon-star\"></i>\n",
       " </p>\n",
       " <h3><a href=\"the-coming-woman-a-novel-based-on-the-life-of-the-infamous-feminist-victoria-woodhull_993/index.html\" title=\"The Coming Woman: A Novel Based on the Life of the Infamous Feminist, Victoria Woodhull\">The Coming Woman: A ...</a></h3>\n",
       " <div class=\"product_price\">\n",
       " <p class=\"price_color\">Â£17.93</p>\n",
       " <p class=\"instock availability\">\n",
       " <i class=\"icon-ok\"></i>\n",
       "     \n",
       "         In stock\n",
       "     \n",
       " </p>\n",
       " <form>\n",
       " <button class=\"btn btn-primary btn-block\" data-loading-text=\"Adding...\" type=\"submit\">Add to basket</button>\n",
       " </form>\n",
       " </div>\n",
       " </article>\n",
       " </li>,\n",
       " <li class=\"col-xs-6 col-sm-4 col-md-3 col-lg-3\">\n",
       " <article class=\"product_pod\">\n",
       " <div class=\"image_container\">\n",
       " <a href=\"the-boys-in-the-boat-nine-americans-and-their-epic-quest-for-gold-at-the-1936-berlin-olympics_992/index.html\"><img alt=\"The Boys in the Boat: Nine Americans and Their Epic Quest for Gold at the 1936 Berlin Olympics\" class=\"thumbnail\" src=\"../media/cache/66/88/66883b91f6804b2323c8369331cb7dd1.jpg\"/></a>\n",
       " </div>\n",
       " <p class=\"star-rating Four\">\n",
       " <i class=\"icon-star\"></i>\n",
       " <i class=\"icon-star\"></i>\n",
       " <i class=\"icon-star\"></i>\n",
       " <i class=\"icon-star\"></i>\n",
       " <i class=\"icon-star\"></i>\n",
       " </p>\n",
       " <h3><a href=\"the-boys-in-the-boat-nine-americans-and-their-epic-quest-for-gold-at-the-1936-berlin-olympics_992/index.html\" title=\"The Boys in the Boat: Nine Americans and Their Epic Quest for Gold at the 1936 Berlin Olympics\">The Boys in the ...</a></h3>\n",
       " <div class=\"product_price\">\n",
       " <p class=\"price_color\">Â£22.60</p>\n",
       " <p class=\"instock availability\">\n",
       " <i class=\"icon-ok\"></i>\n",
       "     \n",
       "         In stock\n",
       "     \n",
       " </p>\n",
       " <form>\n",
       " <button class=\"btn btn-primary btn-block\" data-loading-text=\"Adding...\" type=\"submit\">Add to basket</button>\n",
       " </form>\n",
       " </div>\n",
       " </article>\n",
       " </li>,\n",
       " <li class=\"col-xs-6 col-sm-4 col-md-3 col-lg-3\">\n",
       " <article class=\"product_pod\">\n",
       " <div class=\"image_container\">\n",
       " <a href=\"the-black-maria_991/index.html\"><img alt=\"The Black Maria\" class=\"thumbnail\" src=\"../media/cache/58/46/5846057e28022268153beff6d352b06c.jpg\"/></a>\n",
       " </div>\n",
       " <p class=\"star-rating One\">\n",
       " <i class=\"icon-star\"></i>\n",
       " <i class=\"icon-star\"></i>\n",
       " <i class=\"icon-star\"></i>\n",
       " <i class=\"icon-star\"></i>\n",
       " <i class=\"icon-star\"></i>\n",
       " </p>\n",
       " <h3><a href=\"the-black-maria_991/index.html\" title=\"The Black Maria\">The Black Maria</a></h3>\n",
       " <div class=\"product_price\">\n",
       " <p class=\"price_color\">Â£52.15</p>\n",
       " <p class=\"instock availability\">\n",
       " <i class=\"icon-ok\"></i>\n",
       "     \n",
       "         In stock\n",
       "     \n",
       " </p>\n",
       " <form>\n",
       " <button class=\"btn btn-primary btn-block\" data-loading-text=\"Adding...\" type=\"submit\">Add to basket</button>\n",
       " </form>\n",
       " </div>\n",
       " </article>\n",
       " </li>,\n",
       " <li class=\"col-xs-6 col-sm-4 col-md-3 col-lg-3\">\n",
       " <article class=\"product_pod\">\n",
       " <div class=\"image_container\">\n",
       " <a href=\"starving-hearts-triangular-trade-trilogy-1_990/index.html\"><img alt=\"Starving Hearts (Triangular Trade Trilogy, #1)\" class=\"thumbnail\" src=\"../media/cache/be/f4/bef44da28c98f905a3ebec0b87be8530.jpg\"/></a>\n",
       " </div>\n",
       " <p class=\"star-rating Two\">\n",
       " <i class=\"icon-star\"></i>\n",
       " <i class=\"icon-star\"></i>\n",
       " <i class=\"icon-star\"></i>\n",
       " <i class=\"icon-star\"></i>\n",
       " <i class=\"icon-star\"></i>\n",
       " </p>\n",
       " <h3><a href=\"starving-hearts-triangular-trade-trilogy-1_990/index.html\" title=\"Starving Hearts (Triangular Trade Trilogy, #1)\">Starving Hearts (Triangular Trade ...</a></h3>\n",
       " <div class=\"product_price\">\n",
       " <p class=\"price_color\">Â£13.99</p>\n",
       " <p class=\"instock availability\">\n",
       " <i class=\"icon-ok\"></i>\n",
       "     \n",
       "         In stock\n",
       "     \n",
       " </p>\n",
       " <form>\n",
       " <button class=\"btn btn-primary btn-block\" data-loading-text=\"Adding...\" type=\"submit\">Add to basket</button>\n",
       " </form>\n",
       " </div>\n",
       " </article>\n",
       " </li>,\n",
       " <li class=\"col-xs-6 col-sm-4 col-md-3 col-lg-3\">\n",
       " <article class=\"product_pod\">\n",
       " <div class=\"image_container\">\n",
       " <a href=\"shakespeares-sonnets_989/index.html\"><img alt=\"Shakespeare's Sonnets\" class=\"thumbnail\" src=\"../media/cache/10/48/1048f63d3b5061cd2f424d20b3f9b666.jpg\"/></a>\n",
       " </div>\n",
       " <p class=\"star-rating Four\">\n",
       " <i class=\"icon-star\"></i>\n",
       " <i class=\"icon-star\"></i>\n",
       " <i class=\"icon-star\"></i>\n",
       " <i class=\"icon-star\"></i>\n",
       " <i class=\"icon-star\"></i>\n",
       " </p>\n",
       " <h3><a href=\"shakespeares-sonnets_989/index.html\" title=\"Shakespeare's Sonnets\">Shakespeare's Sonnets</a></h3>\n",
       " <div class=\"product_price\">\n",
       " <p class=\"price_color\">Â£20.66</p>\n",
       " <p class=\"instock availability\">\n",
       " <i class=\"icon-ok\"></i>\n",
       "     \n",
       "         In stock\n",
       "     \n",
       " </p>\n",
       " <form>\n",
       " <button class=\"btn btn-primary btn-block\" data-loading-text=\"Adding...\" type=\"submit\">Add to basket</button>\n",
       " </form>\n",
       " </div>\n",
       " </article>\n",
       " </li>,\n",
       " <li class=\"col-xs-6 col-sm-4 col-md-3 col-lg-3\">\n",
       " <article class=\"product_pod\">\n",
       " <div class=\"image_container\">\n",
       " <a href=\"set-me-free_988/index.html\"><img alt=\"Set Me Free\" class=\"thumbnail\" src=\"../media/cache/5b/88/5b88c52633f53cacf162c15f4f823153.jpg\"/></a>\n",
       " </div>\n",
       " <p class=\"star-rating Five\">\n",
       " <i class=\"icon-star\"></i>\n",
       " <i class=\"icon-star\"></i>\n",
       " <i class=\"icon-star\"></i>\n",
       " <i class=\"icon-star\"></i>\n",
       " <i class=\"icon-star\"></i>\n",
       " </p>\n",
       " <h3><a href=\"set-me-free_988/index.html\" title=\"Set Me Free\">Set Me Free</a></h3>\n",
       " <div class=\"product_price\">\n",
       " <p class=\"price_color\">Â£17.46</p>\n",
       " <p class=\"instock availability\">\n",
       " <i class=\"icon-ok\"></i>\n",
       "     \n",
       "         In stock\n",
       "     \n",
       " </p>\n",
       " <form>\n",
       " <button class=\"btn btn-primary btn-block\" data-loading-text=\"Adding...\" type=\"submit\">Add to basket</button>\n",
       " </form>\n",
       " </div>\n",
       " </article>\n",
       " </li>,\n",
       " <li class=\"col-xs-6 col-sm-4 col-md-3 col-lg-3\">\n",
       " <article class=\"product_pod\">\n",
       " <div class=\"image_container\">\n",
       " <a href=\"scott-pilgrims-precious-little-life-scott-pilgrim-1_987/index.html\"><img alt=\"Scott Pilgrim's Precious Little Life (Scott Pilgrim #1)\" class=\"thumbnail\" src=\"../media/cache/94/b1/94b1b8b244bce9677c2f29ccc890d4d2.jpg\"/></a>\n",
       " </div>\n",
       " <p class=\"star-rating Five\">\n",
       " <i class=\"icon-star\"></i>\n",
       " <i class=\"icon-star\"></i>\n",
       " <i class=\"icon-star\"></i>\n",
       " <i class=\"icon-star\"></i>\n",
       " <i class=\"icon-star\"></i>\n",
       " </p>\n",
       " <h3><a href=\"scott-pilgrims-precious-little-life-scott-pilgrim-1_987/index.html\" title=\"Scott Pilgrim's Precious Little Life (Scott Pilgrim #1)\">Scott Pilgrim's Precious Little ...</a></h3>\n",
       " <div class=\"product_price\">\n",
       " <p class=\"price_color\">Â£52.29</p>\n",
       " <p class=\"instock availability\">\n",
       " <i class=\"icon-ok\"></i>\n",
       "     \n",
       "         In stock\n",
       "     \n",
       " </p>\n",
       " <form>\n",
       " <button class=\"btn btn-primary btn-block\" data-loading-text=\"Adding...\" type=\"submit\">Add to basket</button>\n",
       " </form>\n",
       " </div>\n",
       " </article>\n",
       " </li>,\n",
       " <li class=\"col-xs-6 col-sm-4 col-md-3 col-lg-3\">\n",
       " <article class=\"product_pod\">\n",
       " <div class=\"image_container\">\n",
       " <a href=\"rip-it-up-and-start-again_986/index.html\"><img alt=\"Rip it Up and Start Again\" class=\"thumbnail\" src=\"../media/cache/81/c4/81c4a973364e17d01f217e1188253d5e.jpg\"/></a>\n",
       " </div>\n",
       " <p class=\"star-rating Five\">\n",
       " <i class=\"icon-star\"></i>\n",
       " <i class=\"icon-star\"></i>\n",
       " <i class=\"icon-star\"></i>\n",
       " <i class=\"icon-star\"></i>\n",
       " <i class=\"icon-star\"></i>\n",
       " </p>\n",
       " <h3><a href=\"rip-it-up-and-start-again_986/index.html\" title=\"Rip it Up and Start Again\">Rip it Up and ...</a></h3>\n",
       " <div class=\"product_price\">\n",
       " <p class=\"price_color\">Â£35.02</p>\n",
       " <p class=\"instock availability\">\n",
       " <i class=\"icon-ok\"></i>\n",
       "     \n",
       "         In stock\n",
       "     \n",
       " </p>\n",
       " <form>\n",
       " <button class=\"btn btn-primary btn-block\" data-loading-text=\"Adding...\" type=\"submit\">Add to basket</button>\n",
       " </form>\n",
       " </div>\n",
       " </article>\n",
       " </li>,\n",
       " <li class=\"col-xs-6 col-sm-4 col-md-3 col-lg-3\">\n",
       " <article class=\"product_pod\">\n",
       " <div class=\"image_container\">\n",
       " <a href=\"our-band-could-be-your-life-scenes-from-the-american-indie-underground-1981-1991_985/index.html\"><img alt=\"Our Band Could Be Your Life: Scenes from the American Indie Underground, 1981-1991\" class=\"thumbnail\" src=\"../media/cache/54/60/54607fe8945897cdcced0044103b10b6.jpg\"/></a>\n",
       " </div>\n",
       " <p class=\"star-rating Three\">\n",
       " <i class=\"icon-star\"></i>\n",
       " <i class=\"icon-star\"></i>\n",
       " <i class=\"icon-star\"></i>\n",
       " <i class=\"icon-star\"></i>\n",
       " <i class=\"icon-star\"></i>\n",
       " </p>\n",
       " <h3><a href=\"our-band-could-be-your-life-scenes-from-the-american-indie-underground-1981-1991_985/index.html\" title=\"Our Band Could Be Your Life: Scenes from the American Indie Underground, 1981-1991\">Our Band Could Be ...</a></h3>\n",
       " <div class=\"product_price\">\n",
       " <p class=\"price_color\">Â£57.25</p>\n",
       " <p class=\"instock availability\">\n",
       " <i class=\"icon-ok\"></i>\n",
       "     \n",
       "         In stock\n",
       "     \n",
       " </p>\n",
       " <form>\n",
       " <button class=\"btn btn-primary btn-block\" data-loading-text=\"Adding...\" type=\"submit\">Add to basket</button>\n",
       " </form>\n",
       " </div>\n",
       " </article>\n",
       " </li>,\n",
       " <li class=\"col-xs-6 col-sm-4 col-md-3 col-lg-3\">\n",
       " <article class=\"product_pod\">\n",
       " <div class=\"image_container\">\n",
       " <a href=\"olio_984/index.html\"><img alt=\"Olio\" class=\"thumbnail\" src=\"../media/cache/55/33/553310a7162dfbc2c6d19a84da0df9e1.jpg\"/></a>\n",
       " </div>\n",
       " <p class=\"star-rating One\">\n",
       " <i class=\"icon-star\"></i>\n",
       " <i class=\"icon-star\"></i>\n",
       " <i class=\"icon-star\"></i>\n",
       " <i class=\"icon-star\"></i>\n",
       " <i class=\"icon-star\"></i>\n",
       " </p>\n",
       " <h3><a href=\"olio_984/index.html\" title=\"Olio\">Olio</a></h3>\n",
       " <div class=\"product_price\">\n",
       " <p class=\"price_color\">Â£23.88</p>\n",
       " <p class=\"instock availability\">\n",
       " <i class=\"icon-ok\"></i>\n",
       "     \n",
       "         In stock\n",
       "     \n",
       " </p>\n",
       " <form>\n",
       " <button class=\"btn btn-primary btn-block\" data-loading-text=\"Adding...\" type=\"submit\">Add to basket</button>\n",
       " </form>\n",
       " </div>\n",
       " </article>\n",
       " </li>,\n",
       " <li class=\"col-xs-6 col-sm-4 col-md-3 col-lg-3\">\n",
       " <article class=\"product_pod\">\n",
       " <div class=\"image_container\">\n",
       " <a href=\"mesaerion-the-best-science-fiction-stories-1800-1849_983/index.html\"><img alt=\"Mesaerion: The Best Science Fiction Stories 1800-1849\" class=\"thumbnail\" src=\"../media/cache/09/a3/09a3aef48557576e1a85ba7efea8ecb7.jpg\"/></a>\n",
       " </div>\n",
       " <p class=\"star-rating One\">\n",
       " <i class=\"icon-star\"></i>\n",
       " <i class=\"icon-star\"></i>\n",
       " <i class=\"icon-star\"></i>\n",
       " <i class=\"icon-star\"></i>\n",
       " <i class=\"icon-star\"></i>\n",
       " </p>\n",
       " <h3><a href=\"mesaerion-the-best-science-fiction-stories-1800-1849_983/index.html\" title=\"Mesaerion: The Best Science Fiction Stories 1800-1849\">Mesaerion: The Best Science ...</a></h3>\n",
       " <div class=\"product_price\">\n",
       " <p class=\"price_color\">Â£37.59</p>\n",
       " <p class=\"instock availability\">\n",
       " <i class=\"icon-ok\"></i>\n",
       "     \n",
       "         In stock\n",
       "     \n",
       " </p>\n",
       " <form>\n",
       " <button class=\"btn btn-primary btn-block\" data-loading-text=\"Adding...\" type=\"submit\">Add to basket</button>\n",
       " </form>\n",
       " </div>\n",
       " </article>\n",
       " </li>,\n",
       " <li class=\"col-xs-6 col-sm-4 col-md-3 col-lg-3\">\n",
       " <article class=\"product_pod\">\n",
       " <div class=\"image_container\">\n",
       " <a href=\"libertarianism-for-beginners_982/index.html\"><img alt=\"Libertarianism for Beginners\" class=\"thumbnail\" src=\"../media/cache/0b/bc/0bbcd0a6f4bcd81ccb1049a52736406e.jpg\"/></a>\n",
       " </div>\n",
       " <p class=\"star-rating Two\">\n",
       " <i class=\"icon-star\"></i>\n",
       " <i class=\"icon-star\"></i>\n",
       " <i class=\"icon-star\"></i>\n",
       " <i class=\"icon-star\"></i>\n",
       " <i class=\"icon-star\"></i>\n",
       " </p>\n",
       " <h3><a href=\"libertarianism-for-beginners_982/index.html\" title=\"Libertarianism for Beginners\">Libertarianism for Beginners</a></h3>\n",
       " <div class=\"product_price\">\n",
       " <p class=\"price_color\">Â£51.33</p>\n",
       " <p class=\"instock availability\">\n",
       " <i class=\"icon-ok\"></i>\n",
       "     \n",
       "         In stock\n",
       "     \n",
       " </p>\n",
       " <form>\n",
       " <button class=\"btn btn-primary btn-block\" data-loading-text=\"Adding...\" type=\"submit\">Add to basket</button>\n",
       " </form>\n",
       " </div>\n",
       " </article>\n",
       " </li>,\n",
       " <li class=\"col-xs-6 col-sm-4 col-md-3 col-lg-3\">\n",
       " <article class=\"product_pod\">\n",
       " <div class=\"image_container\">\n",
       " <a href=\"its-only-the-himalayas_981/index.html\"><img alt=\"It's Only the Himalayas\" class=\"thumbnail\" src=\"../media/cache/27/a5/27a53d0bb95bdd88288eaf66c9230d7e.jpg\"/></a>\n",
       " </div>\n",
       " <p class=\"star-rating Two\">\n",
       " <i class=\"icon-star\"></i>\n",
       " <i class=\"icon-star\"></i>\n",
       " <i class=\"icon-star\"></i>\n",
       " <i class=\"icon-star\"></i>\n",
       " <i class=\"icon-star\"></i>\n",
       " </p>\n",
       " <h3><a href=\"its-only-the-himalayas_981/index.html\" title=\"It's Only the Himalayas\">It's Only the Himalayas</a></h3>\n",
       " <div class=\"product_price\">\n",
       " <p class=\"price_color\">Â£45.17</p>\n",
       " <p class=\"instock availability\">\n",
       " <i class=\"icon-ok\"></i>\n",
       "     \n",
       "         In stock\n",
       "     \n",
       " </p>\n",
       " <form>\n",
       " <button class=\"btn btn-primary btn-block\" data-loading-text=\"Adding...\" type=\"submit\">Add to basket</button>\n",
       " </form>\n",
       " </div>\n",
       " </article>\n",
       " </li>]"
      ]
     },
     "execution_count": 11,
     "metadata": {},
     "output_type": "execute_result"
    }
   ],
   "source": [
    "all_books = soup.find_all('li' , attrs = {'class' :'col-xs-6 col-sm-4 col-md-3 col-lg-3'})\n",
    "all_books"
   ]
  },
  {
   "cell_type": "code",
   "execution_count": 16,
   "metadata": {},
   "outputs": [
    {
     "data": {
      "text/plain": [
       "'https://books.toscrape.com/catalogue/a-light-in-the-attic_1000/index.html'"
      ]
     },
     "execution_count": 16,
     "metadata": {},
     "output_type": "execute_result"
    }
   ],
   "source": [
    "url_book = 'https://books.toscrape.com/catalogue/' + all_books[0].find('h3').find('a').attrs['href']\n",
    "url_book"
   ]
  },
  {
   "cell_type": "code",
   "execution_count": 17,
   "metadata": {},
   "outputs": [],
   "source": [
    "response = requests.get(url_book)"
   ]
  },
  {
   "cell_type": "code",
   "execution_count": 18,
   "metadata": {},
   "outputs": [],
   "source": [
    "soup1 = BeautifulSoup(response.text , 'html.parser')"
   ]
  },
  {
   "cell_type": "code",
   "execution_count": 19,
   "metadata": {},
   "outputs": [
    {
     "data": {
      "text/plain": [
       "<div class=\"col-sm-6 product_main\">\n",
       "<h1>A Light in the Attic</h1>\n",
       "<p class=\"price_color\">Â£51.77</p>\n",
       "<p class=\"instock availability\">\n",
       "<i class=\"icon-ok\"></i>\n",
       "    \n",
       "        In stock (22 available)\n",
       "    \n",
       "</p>\n",
       "<p class=\"star-rating Three\">\n",
       "<i class=\"icon-star\"></i>\n",
       "<i class=\"icon-star\"></i>\n",
       "<i class=\"icon-star\"></i>\n",
       "<i class=\"icon-star\"></i>\n",
       "<i class=\"icon-star\"></i>\n",
       "<!-- <small><a href=\"/catalogue/a-light-in-the-attic_1000/reviews/\">\n",
       "        \n",
       "                \n",
       "                    0 customer reviews\n",
       "                \n",
       "        </a></small>\n",
       "         --> \n",
       "\n",
       "\n",
       "<!-- \n",
       "    <a id=\"write_review\" href=\"/catalogue/a-light-in-the-attic_1000/reviews/add/#addreview\" class=\"btn btn-success btn-sm\">\n",
       "        Write a review\n",
       "    </a>\n",
       "\n",
       " --></p>\n",
       "<hr/>\n",
       "<div class=\"alert alert-warning\" role=\"alert\"><strong>Warning!</strong> This is a demo website for web scraping purposes. Prices and ratings here were randomly assigned and have no real meaning.</div>\n",
       "</div>"
      ]
     },
     "execution_count": 19,
     "metadata": {},
     "output_type": "execute_result"
    }
   ],
   "source": [
    "content = soup1.find('div' , attrs = {'class' :'col-sm-6 product_main'})\n",
    "content"
   ]
  },
  {
   "cell_type": "code",
   "execution_count": 20,
   "metadata": {},
   "outputs": [
    {
     "data": {
      "text/plain": [
       "'A Light in the Attic'"
      ]
     },
     "execution_count": 20,
     "metadata": {},
     "output_type": "execute_result"
    }
   ],
   "source": [
    "book_name = content.find('h1').text\n",
    "book_name"
   ]
  },
  {
   "cell_type": "code",
   "execution_count": 21,
   "metadata": {},
   "outputs": [],
   "source": [
    "price = content.find('p' , attrs= {'class': 'price_color'}).text"
   ]
  },
  {
   "cell_type": "code",
   "execution_count": 22,
   "metadata": {},
   "outputs": [],
   "source": [
    "availability = content.find('p' , attrs= {'class': 'instock availability'}).text.strip('\\n ')"
   ]
  },
  {
   "cell_type": "code",
   "execution_count": 23,
   "metadata": {},
   "outputs": [],
   "source": [
    "rating_list = content.find('p' , attrs= {'class' : ['star-rating Two' , 'star-rating Three','star-rating One', 'star-rating Five' ,'star-rating Four']}).attrs['class']\n",
    "rate = ' '.join(rating_list)"
   ]
  },
  {
   "cell_type": "code",
   "execution_count": 24,
   "metadata": {},
   "outputs": [],
   "source": [
    "number_of_reviews= soup1.find('table' , attrs= {'class' :'table table-striped'}).find_all('td')[-1].text"
   ]
  },
  {
   "cell_type": "code",
   "execution_count": 54,
   "metadata": {},
   "outputs": [
    {
     "name": "stdout",
     "output_type": "stream",
     "text": [
      "scraping page 1\n",
      "scraping page 2\n",
      "scraping page 3\n",
      "scraping page 4\n",
      "scraping page 5\n",
      "scraping page 6\n",
      "scraping page 7\n",
      "scraping page 8\n",
      "scraping page 9\n",
      "scraping page 10\n",
      "scraping page 11\n",
      "scraping page 12\n",
      "scraping page 13\n",
      "scraping page 14\n",
      "scraping page 15\n",
      "scraping page 16\n",
      "scraping page 17\n",
      "scraping page 18\n",
      "scraping page 19\n",
      "scraping page 20\n",
      "scraping page 21\n",
      "scraping page 22\n",
      "scraping page 23\n",
      "scraping page 24\n",
      "scraping page 25\n",
      "scraping page 26\n",
      "scraping page 27\n",
      "scraping page 28\n",
      "scraping page 29\n",
      "scraping page 30\n",
      "scraping page 31\n",
      "scraping page 32\n",
      "scraping page 33\n",
      "scraping page 34\n",
      "scraping page 35\n",
      "scraping page 36\n",
      "scraping page 37\n",
      "scraping page 38\n",
      "scraping page 39\n",
      "scraping page 40\n",
      "scraping page 41\n",
      "scraping page 42\n",
      "scraping page 43\n",
      "scraping page 44\n",
      "scraping page 45\n",
      "scraping page 46\n",
      "scraping page 47\n",
      "scraping page 48\n",
      "scraping page 49\n",
      "scraping page 50\n"
     ]
    }
   ],
   "source": [
    "import requests\n",
    "from bs4 import BeautifulSoup\n",
    "with open('books.csv' , mode = 'w') as fd :\n",
    "    fd.write('book_name, price , rate , availability , number_of_reviews\\n')\n",
    "    \n",
    "    for i in range(1, 51):\n",
    "        print(f'scraping page {i}')\n",
    "        res =requests.get(f'https://books.toscrape.com/catalogue/page-{i}.html')\n",
    "        soup = BeautifulSoup(res.text, 'html.parser')\n",
    "        all_books = soup.find_all('li' , attrs = {'class' :'col-xs-6 col-sm-4 col-md-3 col-lg-3'})\n",
    "        for j in range(len(all_books)):\n",
    "            url_book = 'https://books.toscrape.com/catalogue/' + all_books[j].find('h3').find('a').attrs['href']\n",
    "            \n",
    "            response = requests.get(url_book)\n",
    "            soup1 = BeautifulSoup(response.text , 'html.parser')\n",
    "\n",
    "            content = soup1.find('div' , attrs = {'class' :'col-sm-6 product_main'})\n",
    "\n",
    "            book_name = content.find('h1').text\n",
    "\n",
    "            price = content.find('p' , attrs= {'class': 'price_color'}).text\n",
    "\n",
    "            availability = content.find('p' , attrs= {'class': 'instock availability'}).text.strip('\\n ')\n",
    "\n",
    "            rating_list = content.find('p' , attrs= {'class' : ['star-rating Two' , 'star-rating Three','star-rating One', 'star-rating Five' ,'star-rating Four']}).attrs['class']\n",
    "\n",
    "            rate = ' '.join(rating_list)\n",
    "\n",
    "            number_of_reviews= soup1.find('table' , attrs= {'class' :'table table-striped'}).find_all('td')[-1].text\n",
    "\n",
    "            fd.write(f'\\\"{book_name}\\\",\\\"{price}\\\",\\\"{rate}\\\",\\\"{availability}\\\" ,\\\"{number_of_reviews}\\\"\\n')"
   ]
  },
  {
   "cell_type": "code",
   "execution_count": 55,
   "metadata": {},
   "outputs": [
    {
     "data": {
      "text/html": [
       "<div>\n",
       "<style scoped>\n",
       "    .dataframe tbody tr th:only-of-type {\n",
       "        vertical-align: middle;\n",
       "    }\n",
       "\n",
       "    .dataframe tbody tr th {\n",
       "        vertical-align: top;\n",
       "    }\n",
       "\n",
       "    .dataframe thead th {\n",
       "        text-align: right;\n",
       "    }\n",
       "</style>\n",
       "<table border=\"1\" class=\"dataframe\">\n",
       "  <thead>\n",
       "    <tr style=\"text-align: right;\">\n",
       "      <th></th>\n",
       "      <th>book_name</th>\n",
       "      <th>price</th>\n",
       "      <th>rate</th>\n",
       "      <th>availability</th>\n",
       "      <th>number_of_reviews</th>\n",
       "    </tr>\n",
       "  </thead>\n",
       "  <tbody>\n",
       "    <tr>\n",
       "      <th>0</th>\n",
       "      <td>A Light in the Attic</td>\n",
       "      <td>Â£51.77</td>\n",
       "      <td>star-rating Three</td>\n",
       "      <td>In stock (22 available)</td>\n",
       "      <td>0</td>\n",
       "    </tr>\n",
       "    <tr>\n",
       "      <th>1</th>\n",
       "      <td>Tipping the Velvet</td>\n",
       "      <td>Â£53.74</td>\n",
       "      <td>star-rating One</td>\n",
       "      <td>In stock (20 available)</td>\n",
       "      <td>0</td>\n",
       "    </tr>\n",
       "    <tr>\n",
       "      <th>2</th>\n",
       "      <td>Soumission</td>\n",
       "      <td>Â£50.10</td>\n",
       "      <td>star-rating One</td>\n",
       "      <td>In stock (20 available)</td>\n",
       "      <td>0</td>\n",
       "    </tr>\n",
       "    <tr>\n",
       "      <th>3</th>\n",
       "      <td>Sharp Objects</td>\n",
       "      <td>Â£47.82</td>\n",
       "      <td>star-rating Four</td>\n",
       "      <td>In stock (20 available)</td>\n",
       "      <td>0</td>\n",
       "    </tr>\n",
       "    <tr>\n",
       "      <th>4</th>\n",
       "      <td>Sapiens: A Brief History of Humankind</td>\n",
       "      <td>Â£54.23</td>\n",
       "      <td>star-rating Five</td>\n",
       "      <td>In stock (20 available)</td>\n",
       "      <td>0</td>\n",
       "    </tr>\n",
       "    <tr>\n",
       "      <th>...</th>\n",
       "      <td>...</td>\n",
       "      <td>...</td>\n",
       "      <td>...</td>\n",
       "      <td>...</td>\n",
       "      <td>...</td>\n",
       "    </tr>\n",
       "    <tr>\n",
       "      <th>995</th>\n",
       "      <td>Alice in Wonderland (Alice's Adventures in Won...</td>\n",
       "      <td>Â£55.53</td>\n",
       "      <td>star-rating One</td>\n",
       "      <td>In stock (1 available)</td>\n",
       "      <td>0</td>\n",
       "    </tr>\n",
       "    <tr>\n",
       "      <th>996</th>\n",
       "      <td>Ajin: Demi-Human, Volume 1 (Ajin: Demi-Human #1)</td>\n",
       "      <td>Â£57.06</td>\n",
       "      <td>star-rating Four</td>\n",
       "      <td>In stock (1 available)</td>\n",
       "      <td>0</td>\n",
       "    </tr>\n",
       "    <tr>\n",
       "      <th>997</th>\n",
       "      <td>A Spy's Devotion (The Regency Spies of London #1)</td>\n",
       "      <td>Â£16.97</td>\n",
       "      <td>star-rating Five</td>\n",
       "      <td>In stock (1 available)</td>\n",
       "      <td>0</td>\n",
       "    </tr>\n",
       "    <tr>\n",
       "      <th>998</th>\n",
       "      <td>1st to Die (Women's Murder Club #1)</td>\n",
       "      <td>Â£53.98</td>\n",
       "      <td>star-rating One</td>\n",
       "      <td>In stock (1 available)</td>\n",
       "      <td>0</td>\n",
       "    </tr>\n",
       "    <tr>\n",
       "      <th>999</th>\n",
       "      <td>1,000 Places to See Before You Die</td>\n",
       "      <td>Â£26.08</td>\n",
       "      <td>star-rating Five</td>\n",
       "      <td>In stock (1 available)</td>\n",
       "      <td>0</td>\n",
       "    </tr>\n",
       "  </tbody>\n",
       "</table>\n",
       "<p>1000 rows × 5 columns</p>\n",
       "</div>"
      ],
      "text/plain": [
       "                                             book_name   price   \\\n",
       "0                                 A Light in the Attic  Â£51.77   \n",
       "1                                   Tipping the Velvet  Â£53.74   \n",
       "2                                           Soumission  Â£50.10   \n",
       "3                                        Sharp Objects  Â£47.82   \n",
       "4                Sapiens: A Brief History of Humankind  Â£54.23   \n",
       "..                                                 ...      ...   \n",
       "995  Alice in Wonderland (Alice's Adventures in Won...  Â£55.53   \n",
       "996   Ajin: Demi-Human, Volume 1 (Ajin: Demi-Human #1)  Â£57.06   \n",
       "997  A Spy's Devotion (The Regency Spies of London #1)  Â£16.97   \n",
       "998                1st to Die (Women's Murder Club #1)  Â£53.98   \n",
       "999                 1,000 Places to See Before You Die  Â£26.08   \n",
       "\n",
       "                 rate              availability    number_of_reviews  \n",
       "0    star-rating Three  In stock (22 available)                    0  \n",
       "1      star-rating One  In stock (20 available)                    0  \n",
       "2      star-rating One  In stock (20 available)                    0  \n",
       "3     star-rating Four  In stock (20 available)                    0  \n",
       "4     star-rating Five  In stock (20 available)                    0  \n",
       "..                 ...                       ...                 ...  \n",
       "995    star-rating One   In stock (1 available)                    0  \n",
       "996   star-rating Four   In stock (1 available)                    0  \n",
       "997   star-rating Five   In stock (1 available)                    0  \n",
       "998    star-rating One   In stock (1 available)                    0  \n",
       "999   star-rating Five   In stock (1 available)                    0  \n",
       "\n",
       "[1000 rows x 5 columns]"
      ]
     },
     "execution_count": 55,
     "metadata": {},
     "output_type": "execute_result"
    }
   ],
   "source": [
    "import pandas as pd \n",
    "pd.read_csv('books.csv')"
   ]
  },
  {
   "cell_type": "markdown",
   "metadata": {},
   "source": [
    "### task 4"
   ]
  },
  {
   "cell_type": "code",
   "execution_count": 6,
   "metadata": {},
   "outputs": [],
   "source": [
    "res = requests.get('https://www.scrapethissite.com/pages/simple/')"
   ]
  },
  {
   "cell_type": "code",
   "execution_count": 7,
   "metadata": {},
   "outputs": [
    {
     "data": {
      "text/plain": [
       "<Response [200]>"
      ]
     },
     "execution_count": 7,
     "metadata": {},
     "output_type": "execute_result"
    }
   ],
   "source": [
    "res"
   ]
  },
  {
   "cell_type": "code",
   "execution_count": 8,
   "metadata": {},
   "outputs": [],
   "source": [
    "soup = BeautifulSoup(res.text , 'html.parser')"
   ]
  },
  {
   "cell_type": "code",
   "execution_count": 9,
   "metadata": {},
   "outputs": [
    {
     "data": {
      "text/plain": [
       "bs4.BeautifulSoup"
      ]
     },
     "execution_count": 9,
     "metadata": {},
     "output_type": "execute_result"
    }
   ],
   "source": [
    "type(soup)"
   ]
  },
  {
   "cell_type": "code",
   "execution_count": 30,
   "metadata": {},
   "outputs": [],
   "source": [
    "all_countries= soup.find_all('div' , attrs ={'class' :'col-md-4 country'})"
   ]
  },
  {
   "cell_type": "code",
   "execution_count": 31,
   "metadata": {},
   "outputs": [],
   "source": [
    "country_name = all_countries[0].find('h3', attrs= {'class' :'country-name'}).text.replace('\\n' , ' ').replace(' ' , '')"
   ]
  },
  {
   "cell_type": "code",
   "execution_count": 41,
   "metadata": {},
   "outputs": [
    {
     "data": {
      "text/plain": [
       "[<span class=\"country-capital\">Andorra la Vella</span>,\n",
       " <span class=\"country-population\">84000</span>,\n",
       " <span class=\"country-area\">468.0</span>]"
      ]
     },
     "execution_count": 41,
     "metadata": {},
     "output_type": "execute_result"
    }
   ],
   "source": [
    "info = all_countries[0].find('div' , attrs= {'class' :'country-info'}).find_all('span')\n",
    "info"
   ]
  },
  {
   "cell_type": "code",
   "execution_count": 44,
   "metadata": {},
   "outputs": [
    {
     "data": {
      "text/plain": [
       "'Andorra la Vella'"
      ]
     },
     "execution_count": 44,
     "metadata": {},
     "output_type": "execute_result"
    }
   ],
   "source": [
    "capital = info[0].text\n",
    "capital"
   ]
  },
  {
   "cell_type": "code",
   "execution_count": 47,
   "metadata": {},
   "outputs": [
    {
     "data": {
      "text/plain": [
       "'84000'"
      ]
     },
     "execution_count": 47,
     "metadata": {},
     "output_type": "execute_result"
    }
   ],
   "source": [
    "population = info[1].text\n",
    "population"
   ]
  },
  {
   "cell_type": "code",
   "execution_count": 48,
   "metadata": {},
   "outputs": [
    {
     "data": {
      "text/plain": [
       "'468.0'"
      ]
     },
     "execution_count": 48,
     "metadata": {},
     "output_type": "execute_result"
    }
   ],
   "source": [
    "area = info[2].text\n",
    "area"
   ]
  },
  {
   "cell_type": "code",
   "execution_count": 49,
   "metadata": {},
   "outputs": [
    {
     "data": {
      "text/plain": [
       "250"
      ]
     },
     "execution_count": 49,
     "metadata": {},
     "output_type": "execute_result"
    }
   ],
   "source": [
    "len(all_countries)"
   ]
  },
  {
   "cell_type": "code",
   "execution_count": 51,
   "metadata": {},
   "outputs": [],
   "source": [
    "with open ('countries_info.csv' , mode = 'w') as fd :\n",
    "    fd.write('country_name ,capital,population,area\\n')\n",
    "    \n",
    "    for i in range(len(all_countries)) :\n",
    "        country_name = all_countries[i].find('h3', attrs= {'class' :'country-name'}).text.replace('\\n' , ' ').replace(' ' , '')\n",
    "        info = all_countries[i].find('div' , attrs= {'class' :'country-info'}).find_all('span')\n",
    "        capital = info[0].text\n",
    "        population = info[1].text\n",
    "        area = info[2].text\n",
    "\n",
    "        fd.write(f'\\\"{country_name}\\\" , \\\"{capital}\\\",\\\"{population}\\\",\\\"{area}\\\"\\n')"
   ]
  },
  {
   "cell_type": "code",
   "execution_count": 52,
   "metadata": {},
   "outputs": [
    {
     "data": {
      "text/html": [
       "<div>\n",
       "<style scoped>\n",
       "    .dataframe tbody tr th:only-of-type {\n",
       "        vertical-align: middle;\n",
       "    }\n",
       "\n",
       "    .dataframe tbody tr th {\n",
       "        vertical-align: top;\n",
       "    }\n",
       "\n",
       "    .dataframe thead th {\n",
       "        text-align: right;\n",
       "    }\n",
       "</style>\n",
       "<table border=\"1\" class=\"dataframe\">\n",
       "  <thead>\n",
       "    <tr style=\"text-align: right;\">\n",
       "      <th></th>\n",
       "      <th>country_name</th>\n",
       "      <th>capital</th>\n",
       "      <th>population</th>\n",
       "      <th>area</th>\n",
       "    </tr>\n",
       "  </thead>\n",
       "  <tbody>\n",
       "    <tr>\n",
       "      <th>0</th>\n",
       "      <td>Andorra</td>\n",
       "      <td>\"Andorra la Vella\"</td>\n",
       "      <td>84000</td>\n",
       "      <td>468.0</td>\n",
       "    </tr>\n",
       "    <tr>\n",
       "      <th>1</th>\n",
       "      <td>UnitedArabEmirates</td>\n",
       "      <td>\"Abu Dhabi\"</td>\n",
       "      <td>4975593</td>\n",
       "      <td>82880.0</td>\n",
       "    </tr>\n",
       "    <tr>\n",
       "      <th>2</th>\n",
       "      <td>Afghanistan</td>\n",
       "      <td>\"Kabul\"</td>\n",
       "      <td>29121286</td>\n",
       "      <td>647500.0</td>\n",
       "    </tr>\n",
       "    <tr>\n",
       "      <th>3</th>\n",
       "      <td>AntiguaandBarbuda</td>\n",
       "      <td>\"St. John's\"</td>\n",
       "      <td>86754</td>\n",
       "      <td>443.0</td>\n",
       "    </tr>\n",
       "    <tr>\n",
       "      <th>4</th>\n",
       "      <td>Anguilla</td>\n",
       "      <td>\"The Valley\"</td>\n",
       "      <td>13254</td>\n",
       "      <td>102.0</td>\n",
       "    </tr>\n",
       "    <tr>\n",
       "      <th>...</th>\n",
       "      <td>...</td>\n",
       "      <td>...</td>\n",
       "      <td>...</td>\n",
       "      <td>...</td>\n",
       "    </tr>\n",
       "    <tr>\n",
       "      <th>245</th>\n",
       "      <td>Yemen</td>\n",
       "      <td>\"Sanaa\"</td>\n",
       "      <td>23495361</td>\n",
       "      <td>527970.0</td>\n",
       "    </tr>\n",
       "    <tr>\n",
       "      <th>246</th>\n",
       "      <td>Mayotte</td>\n",
       "      <td>\"Mamoudzou\"</td>\n",
       "      <td>159042</td>\n",
       "      <td>374.0</td>\n",
       "    </tr>\n",
       "    <tr>\n",
       "      <th>247</th>\n",
       "      <td>SouthAfrica</td>\n",
       "      <td>\"Pretoria\"</td>\n",
       "      <td>49000000</td>\n",
       "      <td>1219912.0</td>\n",
       "    </tr>\n",
       "    <tr>\n",
       "      <th>248</th>\n",
       "      <td>Zambia</td>\n",
       "      <td>\"Lusaka\"</td>\n",
       "      <td>13460305</td>\n",
       "      <td>752614.0</td>\n",
       "    </tr>\n",
       "    <tr>\n",
       "      <th>249</th>\n",
       "      <td>Zimbabwe</td>\n",
       "      <td>\"Harare\"</td>\n",
       "      <td>11651858</td>\n",
       "      <td>390580.0</td>\n",
       "    </tr>\n",
       "  </tbody>\n",
       "</table>\n",
       "<p>250 rows × 4 columns</p>\n",
       "</div>"
      ],
      "text/plain": [
       "           country_name               capital  population       area\n",
       "0               Andorra    \"Andorra la Vella\"       84000      468.0\n",
       "1    UnitedArabEmirates           \"Abu Dhabi\"     4975593    82880.0\n",
       "2           Afghanistan               \"Kabul\"    29121286   647500.0\n",
       "3     AntiguaandBarbuda          \"St. John's\"       86754      443.0\n",
       "4              Anguilla          \"The Valley\"       13254      102.0\n",
       "..                   ...                  ...         ...        ...\n",
       "245               Yemen               \"Sanaa\"    23495361   527970.0\n",
       "246             Mayotte           \"Mamoudzou\"      159042      374.0\n",
       "247         SouthAfrica            \"Pretoria\"    49000000  1219912.0\n",
       "248              Zambia              \"Lusaka\"    13460305   752614.0\n",
       "249            Zimbabwe              \"Harare\"    11651858   390580.0\n",
       "\n",
       "[250 rows x 4 columns]"
      ]
     },
     "execution_count": 52,
     "metadata": {},
     "output_type": "execute_result"
    }
   ],
   "source": [
    "pd.read_csv('countries_info.csv')"
   ]
  },
  {
   "cell_type": "markdown",
   "metadata": {},
   "source": [
    "### task5"
   ]
  },
  {
   "cell_type": "code",
   "execution_count": 134,
   "metadata": {},
   "outputs": [],
   "source": [
    "re = requests.get('https://www.scrapethissite.com/pages/forms/?per_page=100')"
   ]
  },
  {
   "cell_type": "code",
   "execution_count": 135,
   "metadata": {},
   "outputs": [
    {
     "data": {
      "text/plain": [
       "<Response [200]>"
      ]
     },
     "execution_count": 135,
     "metadata": {},
     "output_type": "execute_result"
    }
   ],
   "source": [
    "re"
   ]
  },
  {
   "cell_type": "code",
   "execution_count": 136,
   "metadata": {},
   "outputs": [],
   "source": [
    "soup=BeautifulSoup(re.text , 'html.parser')"
   ]
  },
  {
   "cell_type": "code",
   "execution_count": 137,
   "metadata": {},
   "outputs": [
    {
     "data": {
      "text/plain": [
       "bs4.BeautifulSoup"
      ]
     },
     "execution_count": 137,
     "metadata": {},
     "output_type": "execute_result"
    }
   ],
   "source": [
    "type(soup)"
   ]
  },
  {
   "cell_type": "code",
   "execution_count": 138,
   "metadata": {},
   "outputs": [
    {
     "data": {
      "text/plain": [
       "100"
      ]
     },
     "execution_count": 138,
     "metadata": {},
     "output_type": "execute_result"
    }
   ],
   "source": [
    "teams = soup.find_all('tr' , attrs= {'class':'team'})\n",
    "len(teams)"
   ]
  },
  {
   "cell_type": "code",
   "execution_count": 139,
   "metadata": {},
   "outputs": [],
   "source": [
    "info_of_teams = teams[0].find_all('td')"
   ]
  },
  {
   "cell_type": "code",
   "execution_count": 140,
   "metadata": {},
   "outputs": [
    {
     "data": {
      "text/plain": [
       "'264'"
      ]
     },
     "execution_count": 140,
     "metadata": {},
     "output_type": "execute_result"
    }
   ],
   "source": [
    "team_name =info_of_teams[0].text.replace('\\n', '').replace(' ','')\n",
    "year = info_of_teams[1].text.replace('\\n', '').replace(' ','')\n",
    "wins =info_of_teams[2].text.replace('\\n', '').replace(' ','')\n",
    "losses =info_of_teams[3].text.replace('\\n', '').replace(' ','')\n",
    "success= info_of_teams[5].text.replace('\\n', '').replace(' ','')\n",
    "gf =info_of_teams[6].text.replace('\\n', '').replace(' ','')\n",
    "ga =info_of_teams[7].text.replace('\\n', '').replace(' ','')\n",
    "ga\n"
   ]
  },
  {
   "cell_type": "code",
   "execution_count": 143,
   "metadata": {},
   "outputs": [
    {
     "data": {
      "text/plain": [
       "6"
      ]
     },
     "execution_count": 143,
     "metadata": {},
     "output_type": "execute_result"
    }
   ],
   "source": [
    "number_of_pages = int(soup.find('ul' , attrs= {'class':'pagination'}).find_all('a')[-2].text.replace('\\n', '').replace(' ',''))\n",
    "number_of_pages"
   ]
  },
  {
   "cell_type": "code",
   "execution_count": 153,
   "metadata": {},
   "outputs": [
    {
     "name": "stdout",
     "output_type": "stream",
     "text": [
      "scraping page 1\n",
      "scraping page 2\n",
      "scraping page 3\n",
      "scraping page 4\n",
      "scraping page 5\n",
      "scraping page 6\n"
     ]
    }
   ],
   "source": [
    "re = requests.get('https://www.scrapethissite.com/pages/forms/?per_page=100')\n",
    "soup1=BeautifulSoup(re.text , 'html.parser')\n",
    "number_of_pages = int(soup1.find('ul' , attrs= {'class':'pagination'}).find_all('a')[-2].text.replace('\\n', '').replace(' ',''))\n",
    "\n",
    "with open('hockey_teams.csv' , mode = 'w') as fd :\n",
    "    fd.write('team_name,year,wins,losses,success,gf,ga\\n')\n",
    "\n",
    "    for i in range(1,number_of_pages + 1):\n",
    "        print(f'scraping page {i}')\n",
    "        res =requests.get(f'https://www.scrapethissite.com/pages/forms/?page_num={i}&per_page=100')\n",
    "        soup = BeautifulSoup(res.text, 'html.parser')\n",
    "        teams = soup.find_all('tr' , attrs= {'class':'team'})\n",
    "        \n",
    "        for j in range(len(teams)):\n",
    "\n",
    "            info_of_teams = teams[j].find_all('td')\n",
    "\n",
    "            team_name =info_of_teams[0].text.replace('\\n', '').replace(' ','')\n",
    "\n",
    "            year = info_of_teams[1].text.replace('\\n', '').replace(' ','')\n",
    "\n",
    "            wins =info_of_teams[2].text.replace('\\n', '').replace(' ','')\n",
    "\n",
    "            losses =info_of_teams[3].text.replace('\\n', '').replace(' ','')\n",
    "\n",
    "            success= info_of_teams[5].text.replace('\\n', '').replace(' ','')\n",
    "\n",
    "            gf =info_of_teams[6].text.replace('\\n', '').replace(' ','')\n",
    "\n",
    "            ga =info_of_teams[7].text.replace('\\n', '').replace(' ','')\n",
    "\n",
    "            fd.write(f'\\\"{team_name}\\\",\\\"{year}\\\",\\\"{wins}\\\",\\\"{losses}\\\",\\\"{success}\\\",\\\"{gf}\\\",\\\"{ga}\\\"\\n')"
   ]
  },
  {
   "cell_type": "code",
   "execution_count": 154,
   "metadata": {},
   "outputs": [
    {
     "data": {
      "text/html": [
       "<div>\n",
       "<style scoped>\n",
       "    .dataframe tbody tr th:only-of-type {\n",
       "        vertical-align: middle;\n",
       "    }\n",
       "\n",
       "    .dataframe tbody tr th {\n",
       "        vertical-align: top;\n",
       "    }\n",
       "\n",
       "    .dataframe thead th {\n",
       "        text-align: right;\n",
       "    }\n",
       "</style>\n",
       "<table border=\"1\" class=\"dataframe\">\n",
       "  <thead>\n",
       "    <tr style=\"text-align: right;\">\n",
       "      <th></th>\n",
       "      <th>team_name</th>\n",
       "      <th>year</th>\n",
       "      <th>wins</th>\n",
       "      <th>losses</th>\n",
       "      <th>success</th>\n",
       "      <th>gf</th>\n",
       "      <th>ga</th>\n",
       "    </tr>\n",
       "  </thead>\n",
       "  <tbody>\n",
       "    <tr>\n",
       "      <th>0</th>\n",
       "      <td>BostonBruins</td>\n",
       "      <td>1990</td>\n",
       "      <td>44</td>\n",
       "      <td>24</td>\n",
       "      <td>0.550</td>\n",
       "      <td>299</td>\n",
       "      <td>264</td>\n",
       "    </tr>\n",
       "    <tr>\n",
       "      <th>1</th>\n",
       "      <td>BuffaloSabres</td>\n",
       "      <td>1990</td>\n",
       "      <td>31</td>\n",
       "      <td>30</td>\n",
       "      <td>0.388</td>\n",
       "      <td>292</td>\n",
       "      <td>278</td>\n",
       "    </tr>\n",
       "    <tr>\n",
       "      <th>2</th>\n",
       "      <td>CalgaryFlames</td>\n",
       "      <td>1990</td>\n",
       "      <td>46</td>\n",
       "      <td>26</td>\n",
       "      <td>0.575</td>\n",
       "      <td>344</td>\n",
       "      <td>263</td>\n",
       "    </tr>\n",
       "    <tr>\n",
       "      <th>3</th>\n",
       "      <td>ChicagoBlackhawks</td>\n",
       "      <td>1990</td>\n",
       "      <td>49</td>\n",
       "      <td>23</td>\n",
       "      <td>0.613</td>\n",
       "      <td>284</td>\n",
       "      <td>211</td>\n",
       "    </tr>\n",
       "    <tr>\n",
       "      <th>4</th>\n",
       "      <td>DetroitRedWings</td>\n",
       "      <td>1990</td>\n",
       "      <td>34</td>\n",
       "      <td>38</td>\n",
       "      <td>0.425</td>\n",
       "      <td>273</td>\n",
       "      <td>298</td>\n",
       "    </tr>\n",
       "    <tr>\n",
       "      <th>...</th>\n",
       "      <td>...</td>\n",
       "      <td>...</td>\n",
       "      <td>...</td>\n",
       "      <td>...</td>\n",
       "      <td>...</td>\n",
       "      <td>...</td>\n",
       "      <td>...</td>\n",
       "    </tr>\n",
       "    <tr>\n",
       "      <th>577</th>\n",
       "      <td>TampaBayLightning</td>\n",
       "      <td>2011</td>\n",
       "      <td>38</td>\n",
       "      <td>36</td>\n",
       "      <td>0.463</td>\n",
       "      <td>235</td>\n",
       "      <td>281</td>\n",
       "    </tr>\n",
       "    <tr>\n",
       "      <th>578</th>\n",
       "      <td>TorontoMapleLeafs</td>\n",
       "      <td>2011</td>\n",
       "      <td>35</td>\n",
       "      <td>37</td>\n",
       "      <td>0.427</td>\n",
       "      <td>231</td>\n",
       "      <td>264</td>\n",
       "    </tr>\n",
       "    <tr>\n",
       "      <th>579</th>\n",
       "      <td>VancouverCanucks</td>\n",
       "      <td>2011</td>\n",
       "      <td>51</td>\n",
       "      <td>22</td>\n",
       "      <td>0.622</td>\n",
       "      <td>249</td>\n",
       "      <td>198</td>\n",
       "    </tr>\n",
       "    <tr>\n",
       "      <th>580</th>\n",
       "      <td>WashingtonCapitals</td>\n",
       "      <td>2011</td>\n",
       "      <td>42</td>\n",
       "      <td>32</td>\n",
       "      <td>0.512</td>\n",
       "      <td>222</td>\n",
       "      <td>230</td>\n",
       "    </tr>\n",
       "    <tr>\n",
       "      <th>581</th>\n",
       "      <td>WinnipegJets</td>\n",
       "      <td>2011</td>\n",
       "      <td>37</td>\n",
       "      <td>35</td>\n",
       "      <td>0.451</td>\n",
       "      <td>225</td>\n",
       "      <td>246</td>\n",
       "    </tr>\n",
       "  </tbody>\n",
       "</table>\n",
       "<p>582 rows × 7 columns</p>\n",
       "</div>"
      ],
      "text/plain": [
       "              team_name  year  wins  losses  success   gf   ga\n",
       "0          BostonBruins  1990    44      24    0.550  299  264\n",
       "1         BuffaloSabres  1990    31      30    0.388  292  278\n",
       "2         CalgaryFlames  1990    46      26    0.575  344  263\n",
       "3     ChicagoBlackhawks  1990    49      23    0.613  284  211\n",
       "4       DetroitRedWings  1990    34      38    0.425  273  298\n",
       "..                  ...   ...   ...     ...      ...  ...  ...\n",
       "577   TampaBayLightning  2011    38      36    0.463  235  281\n",
       "578   TorontoMapleLeafs  2011    35      37    0.427  231  264\n",
       "579    VancouverCanucks  2011    51      22    0.622  249  198\n",
       "580  WashingtonCapitals  2011    42      32    0.512  222  230\n",
       "581        WinnipegJets  2011    37      35    0.451  225  246\n",
       "\n",
       "[582 rows x 7 columns]"
      ]
     },
     "execution_count": 154,
     "metadata": {},
     "output_type": "execute_result"
    }
   ],
   "source": [
    "pd.read_csv('hockey_teams.csv')"
   ]
  },
  {
   "cell_type": "markdown",
   "metadata": {},
   "source": [
    "### Task 6"
   ]
  },
  {
   "cell_type": "code",
   "execution_count": 155,
   "metadata": {},
   "outputs": [],
   "source": [
    "re = requests.get('https://jsonplaceholder.typicode.com/users')"
   ]
  },
  {
   "cell_type": "code",
   "execution_count": 156,
   "metadata": {},
   "outputs": [
    {
     "data": {
      "text/plain": [
       "<Response [200]>"
      ]
     },
     "execution_count": 156,
     "metadata": {},
     "output_type": "execute_result"
    }
   ],
   "source": [
    "re"
   ]
  },
  {
   "cell_type": "code",
   "execution_count": 158,
   "metadata": {},
   "outputs": [
    {
     "data": {
      "text/plain": [
       "[{'id': 1,\n",
       "  'name': 'Leanne Graham',\n",
       "  'username': 'Bret',\n",
       "  'email': 'Sincere@april.biz',\n",
       "  'address': {'street': 'Kulas Light',\n",
       "   'suite': 'Apt. 556',\n",
       "   'city': 'Gwenborough',\n",
       "   'zipcode': '92998-3874',\n",
       "   'geo': {'lat': '-37.3159', 'lng': '81.1496'}},\n",
       "  'phone': '1-770-736-8031 x56442',\n",
       "  'website': 'hildegard.org',\n",
       "  'company': {'name': 'Romaguera-Crona',\n",
       "   'catchPhrase': 'Multi-layered client-server neural-net',\n",
       "   'bs': 'harness real-time e-markets'}},\n",
       " {'id': 2,\n",
       "  'name': 'Ervin Howell',\n",
       "  'username': 'Antonette',\n",
       "  'email': 'Shanna@melissa.tv',\n",
       "  'address': {'street': 'Victor Plains',\n",
       "   'suite': 'Suite 879',\n",
       "   'city': 'Wisokyburgh',\n",
       "   'zipcode': '90566-7771',\n",
       "   'geo': {'lat': '-43.9509', 'lng': '-34.4618'}},\n",
       "  'phone': '010-692-6593 x09125',\n",
       "  'website': 'anastasia.net',\n",
       "  'company': {'name': 'Deckow-Crist',\n",
       "   'catchPhrase': 'Proactive didactic contingency',\n",
       "   'bs': 'synergize scalable supply-chains'}},\n",
       " {'id': 3,\n",
       "  'name': 'Clementine Bauch',\n",
       "  'username': 'Samantha',\n",
       "  'email': 'Nathan@yesenia.net',\n",
       "  'address': {'street': 'Douglas Extension',\n",
       "   'suite': 'Suite 847',\n",
       "   'city': 'McKenziehaven',\n",
       "   'zipcode': '59590-4157',\n",
       "   'geo': {'lat': '-68.6102', 'lng': '-47.0653'}},\n",
       "  'phone': '1-463-123-4447',\n",
       "  'website': 'ramiro.info',\n",
       "  'company': {'name': 'Romaguera-Jacobson',\n",
       "   'catchPhrase': 'Face to face bifurcated interface',\n",
       "   'bs': 'e-enable strategic applications'}},\n",
       " {'id': 4,\n",
       "  'name': 'Patricia Lebsack',\n",
       "  'username': 'Karianne',\n",
       "  'email': 'Julianne.OConner@kory.org',\n",
       "  'address': {'street': 'Hoeger Mall',\n",
       "   'suite': 'Apt. 692',\n",
       "   'city': 'South Elvis',\n",
       "   'zipcode': '53919-4257',\n",
       "   'geo': {'lat': '29.4572', 'lng': '-164.2990'}},\n",
       "  'phone': '493-170-9623 x156',\n",
       "  'website': 'kale.biz',\n",
       "  'company': {'name': 'Robel-Corkery',\n",
       "   'catchPhrase': 'Multi-tiered zero tolerance productivity',\n",
       "   'bs': 'transition cutting-edge web services'}},\n",
       " {'id': 5,\n",
       "  'name': 'Chelsey Dietrich',\n",
       "  'username': 'Kamren',\n",
       "  'email': 'Lucio_Hettinger@annie.ca',\n",
       "  'address': {'street': 'Skiles Walks',\n",
       "   'suite': 'Suite 351',\n",
       "   'city': 'Roscoeview',\n",
       "   'zipcode': '33263',\n",
       "   'geo': {'lat': '-31.8129', 'lng': '62.5342'}},\n",
       "  'phone': '(254)954-1289',\n",
       "  'website': 'demarco.info',\n",
       "  'company': {'name': 'Keebler LLC',\n",
       "   'catchPhrase': 'User-centric fault-tolerant solution',\n",
       "   'bs': 'revolutionize end-to-end systems'}},\n",
       " {'id': 6,\n",
       "  'name': 'Mrs. Dennis Schulist',\n",
       "  'username': 'Leopoldo_Corkery',\n",
       "  'email': 'Karley_Dach@jasper.info',\n",
       "  'address': {'street': 'Norberto Crossing',\n",
       "   'suite': 'Apt. 950',\n",
       "   'city': 'South Christy',\n",
       "   'zipcode': '23505-1337',\n",
       "   'geo': {'lat': '-71.4197', 'lng': '71.7478'}},\n",
       "  'phone': '1-477-935-8478 x6430',\n",
       "  'website': 'ola.org',\n",
       "  'company': {'name': 'Considine-Lockman',\n",
       "   'catchPhrase': 'Synchronised bottom-line interface',\n",
       "   'bs': 'e-enable innovative applications'}},\n",
       " {'id': 7,\n",
       "  'name': 'Kurtis Weissnat',\n",
       "  'username': 'Elwyn.Skiles',\n",
       "  'email': 'Telly.Hoeger@billy.biz',\n",
       "  'address': {'street': 'Rex Trail',\n",
       "   'suite': 'Suite 280',\n",
       "   'city': 'Howemouth',\n",
       "   'zipcode': '58804-1099',\n",
       "   'geo': {'lat': '24.8918', 'lng': '21.8984'}},\n",
       "  'phone': '210.067.6132',\n",
       "  'website': 'elvis.io',\n",
       "  'company': {'name': 'Johns Group',\n",
       "   'catchPhrase': 'Configurable multimedia task-force',\n",
       "   'bs': 'generate enterprise e-tailers'}},\n",
       " {'id': 8,\n",
       "  'name': 'Nicholas Runolfsdottir V',\n",
       "  'username': 'Maxime_Nienow',\n",
       "  'email': 'Sherwood@rosamond.me',\n",
       "  'address': {'street': 'Ellsworth Summit',\n",
       "   'suite': 'Suite 729',\n",
       "   'city': 'Aliyaview',\n",
       "   'zipcode': '45169',\n",
       "   'geo': {'lat': '-14.3990', 'lng': '-120.7677'}},\n",
       "  'phone': '586.493.6943 x140',\n",
       "  'website': 'jacynthe.com',\n",
       "  'company': {'name': 'Abernathy Group',\n",
       "   'catchPhrase': 'Implemented secondary concept',\n",
       "   'bs': 'e-enable extensible e-tailers'}},\n",
       " {'id': 9,\n",
       "  'name': 'Glenna Reichert',\n",
       "  'username': 'Delphine',\n",
       "  'email': 'Chaim_McDermott@dana.io',\n",
       "  'address': {'street': 'Dayna Park',\n",
       "   'suite': 'Suite 449',\n",
       "   'city': 'Bartholomebury',\n",
       "   'zipcode': '76495-3109',\n",
       "   'geo': {'lat': '24.6463', 'lng': '-168.8889'}},\n",
       "  'phone': '(775)976-6794 x41206',\n",
       "  'website': 'conrad.com',\n",
       "  'company': {'name': 'Yost and Sons',\n",
       "   'catchPhrase': 'Switchable contextually-based project',\n",
       "   'bs': 'aggregate real-time technologies'}},\n",
       " {'id': 10,\n",
       "  'name': 'Clementina DuBuque',\n",
       "  'username': 'Moriah.Stanton',\n",
       "  'email': 'Rey.Padberg@karina.biz',\n",
       "  'address': {'street': 'Kattie Turnpike',\n",
       "   'suite': 'Suite 198',\n",
       "   'city': 'Lebsackbury',\n",
       "   'zipcode': '31428-2261',\n",
       "   'geo': {'lat': '-38.2386', 'lng': '57.2232'}},\n",
       "  'phone': '024-648-3804',\n",
       "  'website': 'ambrose.net',\n",
       "  'company': {'name': 'Hoeger LLC',\n",
       "   'catchPhrase': 'Centralized empowering task-force',\n",
       "   'bs': 'target end-to-end models'}}]"
      ]
     },
     "execution_count": 158,
     "metadata": {},
     "output_type": "execute_result"
    }
   ],
   "source": [
    "result = re.json()\n",
    "result "
   ]
  },
  {
   "cell_type": "code",
   "execution_count": 159,
   "metadata": {},
   "outputs": [
    {
     "data": {
      "text/plain": [
       "10"
      ]
     },
     "execution_count": 159,
     "metadata": {},
     "output_type": "execute_result"
    }
   ],
   "source": [
    "len(result)"
   ]
  },
  {
   "cell_type": "code",
   "execution_count": 197,
   "metadata": {},
   "outputs": [],
   "source": [
    "name = result[0]['name']\n",
    "username =result[0]['username']\n",
    "email = result[0]['email']\n",
    "street =result[0]['address']['street']\n",
    "suite = result[0]['address']['suite']\n",
    "city  =result[0]['address']['city']\n",
    "zipcode = result[0]['address']['zipcode']\n",
    "geo_lat = result[0]['address']['geo']['lat']\n",
    "geo_lng =result[0]['address']['geo']['lng']\n",
    "phone = result[0]['phone']\n"
   ]
  },
  {
   "cell_type": "code",
   "execution_count": 200,
   "metadata": {},
   "outputs": [],
   "source": [
    "with open('users_info.csv' , mode = 'w' ) as fd :\n",
    "\n",
    "    fd.write('name , username, email, street, suite, city,zipcode , geo_lat,geo_lng, phone\\n')\n",
    "\n",
    "    for i in range(len(result)):\n",
    "        name = result[i]['name']\n",
    "        username =result[i]['username']\n",
    "        email = result[i]['email']\n",
    "        street =result[i]['address']['street']\n",
    "        suite = result[i]['address']['suite']\n",
    "        city  =result[i]['address']['city']\n",
    "        zipcode = result[i]['address']['zipcode']\n",
    "        geo_lat = result[i]['address']['geo']['lat']\n",
    "        geo_lng =result[i]['address']['geo']['lng']\n",
    "        phone = result[i]['phone']\n",
    "\n",
    "        fd.write(f'\\\"{name} \\\", \\\"{username}\\\",\\\" {email}\\\", \\\"{street}\\\",\\\" {suite}\\\", \\\"{city}\\\",\\\"{zipcode}\\\" , \\\"{geo_lat}\\\",\\\"{geo_lng}\\\", \\\"{phone}\\\"\\n')\n"
   ]
  },
  {
   "cell_type": "code",
   "execution_count": 201,
   "metadata": {},
   "outputs": [
    {
     "data": {
      "text/html": [
       "<div>\n",
       "<style scoped>\n",
       "    .dataframe tbody tr th:only-of-type {\n",
       "        vertical-align: middle;\n",
       "    }\n",
       "\n",
       "    .dataframe tbody tr th {\n",
       "        vertical-align: top;\n",
       "    }\n",
       "\n",
       "    .dataframe thead th {\n",
       "        text-align: right;\n",
       "    }\n",
       "</style>\n",
       "<table border=\"1\" class=\"dataframe\">\n",
       "  <thead>\n",
       "    <tr style=\"text-align: right;\">\n",
       "      <th></th>\n",
       "      <th>name</th>\n",
       "      <th>username</th>\n",
       "      <th>email</th>\n",
       "      <th>street</th>\n",
       "      <th>suite</th>\n",
       "      <th>city</th>\n",
       "      <th>zipcode</th>\n",
       "      <th>geo_lat</th>\n",
       "      <th>geo_lng</th>\n",
       "      <th>phone</th>\n",
       "    </tr>\n",
       "  </thead>\n",
       "  <tbody>\n",
       "    <tr>\n",
       "      <th>0</th>\n",
       "      <td>Leanne Graham</td>\n",
       "      <td>\"Bret\"</td>\n",
       "      <td>Sincere@april.biz</td>\n",
       "      <td>\"Kulas Light\"</td>\n",
       "      <td>Apt. 556</td>\n",
       "      <td>\"Gwenborough\"</td>\n",
       "      <td>92998-3874</td>\n",
       "      <td>\"-37.3159\"</td>\n",
       "      <td>81.1496</td>\n",
       "      <td>\"1-770-736-8031 x56442\"</td>\n",
       "    </tr>\n",
       "    <tr>\n",
       "      <th>1</th>\n",
       "      <td>Ervin Howell</td>\n",
       "      <td>\"Antonette\"</td>\n",
       "      <td>Shanna@melissa.tv</td>\n",
       "      <td>\"Victor Plains\"</td>\n",
       "      <td>Suite 879</td>\n",
       "      <td>\"Wisokyburgh\"</td>\n",
       "      <td>90566-7771</td>\n",
       "      <td>\"-43.9509\"</td>\n",
       "      <td>-34.4618</td>\n",
       "      <td>\"010-692-6593 x09125\"</td>\n",
       "    </tr>\n",
       "    <tr>\n",
       "      <th>2</th>\n",
       "      <td>Clementine Bauch</td>\n",
       "      <td>\"Samantha\"</td>\n",
       "      <td>Nathan@yesenia.net</td>\n",
       "      <td>\"Douglas Extension\"</td>\n",
       "      <td>Suite 847</td>\n",
       "      <td>\"McKenziehaven\"</td>\n",
       "      <td>59590-4157</td>\n",
       "      <td>\"-68.6102\"</td>\n",
       "      <td>-47.0653</td>\n",
       "      <td>\"1-463-123-4447\"</td>\n",
       "    </tr>\n",
       "    <tr>\n",
       "      <th>3</th>\n",
       "      <td>Patricia Lebsack</td>\n",
       "      <td>\"Karianne\"</td>\n",
       "      <td>Julianne.OConner@kory.org</td>\n",
       "      <td>\"Hoeger Mall\"</td>\n",
       "      <td>Apt. 692</td>\n",
       "      <td>\"South Elvis\"</td>\n",
       "      <td>53919-4257</td>\n",
       "      <td>\"29.4572\"</td>\n",
       "      <td>-164.2990</td>\n",
       "      <td>\"493-170-9623 x156\"</td>\n",
       "    </tr>\n",
       "    <tr>\n",
       "      <th>4</th>\n",
       "      <td>Chelsey Dietrich</td>\n",
       "      <td>\"Kamren\"</td>\n",
       "      <td>Lucio_Hettinger@annie.ca</td>\n",
       "      <td>\"Skiles Walks\"</td>\n",
       "      <td>Suite 351</td>\n",
       "      <td>\"Roscoeview\"</td>\n",
       "      <td>33263</td>\n",
       "      <td>\"-31.8129\"</td>\n",
       "      <td>62.5342</td>\n",
       "      <td>\"(254)954-1289\"</td>\n",
       "    </tr>\n",
       "    <tr>\n",
       "      <th>5</th>\n",
       "      <td>Mrs. Dennis Schulist</td>\n",
       "      <td>\"Leopoldo_Corkery\"</td>\n",
       "      <td>Karley_Dach@jasper.info</td>\n",
       "      <td>\"Norberto Crossing\"</td>\n",
       "      <td>Apt. 950</td>\n",
       "      <td>\"South Christy\"</td>\n",
       "      <td>23505-1337</td>\n",
       "      <td>\"-71.4197\"</td>\n",
       "      <td>71.7478</td>\n",
       "      <td>\"1-477-935-8478 x6430\"</td>\n",
       "    </tr>\n",
       "    <tr>\n",
       "      <th>6</th>\n",
       "      <td>Kurtis Weissnat</td>\n",
       "      <td>\"Elwyn.Skiles\"</td>\n",
       "      <td>Telly.Hoeger@billy.biz</td>\n",
       "      <td>\"Rex Trail\"</td>\n",
       "      <td>Suite 280</td>\n",
       "      <td>\"Howemouth\"</td>\n",
       "      <td>58804-1099</td>\n",
       "      <td>\"24.8918\"</td>\n",
       "      <td>21.8984</td>\n",
       "      <td>\"210.067.6132\"</td>\n",
       "    </tr>\n",
       "    <tr>\n",
       "      <th>7</th>\n",
       "      <td>Nicholas Runolfsdottir V</td>\n",
       "      <td>\"Maxime_Nienow\"</td>\n",
       "      <td>Sherwood@rosamond.me</td>\n",
       "      <td>\"Ellsworth Summit\"</td>\n",
       "      <td>Suite 729</td>\n",
       "      <td>\"Aliyaview\"</td>\n",
       "      <td>45169</td>\n",
       "      <td>\"-14.3990\"</td>\n",
       "      <td>-120.7677</td>\n",
       "      <td>\"586.493.6943 x140\"</td>\n",
       "    </tr>\n",
       "    <tr>\n",
       "      <th>8</th>\n",
       "      <td>Glenna Reichert</td>\n",
       "      <td>\"Delphine\"</td>\n",
       "      <td>Chaim_McDermott@dana.io</td>\n",
       "      <td>\"Dayna Park\"</td>\n",
       "      <td>Suite 449</td>\n",
       "      <td>\"Bartholomebury\"</td>\n",
       "      <td>76495-3109</td>\n",
       "      <td>\"24.6463\"</td>\n",
       "      <td>-168.8889</td>\n",
       "      <td>\"(775)976-6794 x41206\"</td>\n",
       "    </tr>\n",
       "    <tr>\n",
       "      <th>9</th>\n",
       "      <td>Clementina DuBuque</td>\n",
       "      <td>\"Moriah.Stanton\"</td>\n",
       "      <td>Rey.Padberg@karina.biz</td>\n",
       "      <td>\"Kattie Turnpike\"</td>\n",
       "      <td>Suite 198</td>\n",
       "      <td>\"Lebsackbury\"</td>\n",
       "      <td>31428-2261</td>\n",
       "      <td>\"-38.2386\"</td>\n",
       "      <td>57.2232</td>\n",
       "      <td>\"024-648-3804\"</td>\n",
       "    </tr>\n",
       "  </tbody>\n",
       "</table>\n",
       "</div>"
      ],
      "text/plain": [
       "                       name              username                       email  \\\n",
       "0             Leanne Graham                \"Bret\"           Sincere@april.biz   \n",
       "1              Ervin Howell           \"Antonette\"           Shanna@melissa.tv   \n",
       "2          Clementine Bauch            \"Samantha\"          Nathan@yesenia.net   \n",
       "3          Patricia Lebsack            \"Karianne\"   Julianne.OConner@kory.org   \n",
       "4          Chelsey Dietrich              \"Kamren\"    Lucio_Hettinger@annie.ca   \n",
       "5      Mrs. Dennis Schulist    \"Leopoldo_Corkery\"     Karley_Dach@jasper.info   \n",
       "6           Kurtis Weissnat        \"Elwyn.Skiles\"      Telly.Hoeger@billy.biz   \n",
       "7  Nicholas Runolfsdottir V       \"Maxime_Nienow\"        Sherwood@rosamond.me   \n",
       "8           Glenna Reichert            \"Delphine\"     Chaim_McDermott@dana.io   \n",
       "9        Clementina DuBuque      \"Moriah.Stanton\"      Rey.Padberg@karina.biz   \n",
       "\n",
       "                 street       suite               city     zipcode   \\\n",
       "0         \"Kulas Light\"    Apt. 556      \"Gwenborough\"  92998-3874    \n",
       "1       \"Victor Plains\"   Suite 879      \"Wisokyburgh\"  90566-7771    \n",
       "2   \"Douglas Extension\"   Suite 847    \"McKenziehaven\"  59590-4157    \n",
       "3         \"Hoeger Mall\"    Apt. 692      \"South Elvis\"  53919-4257    \n",
       "4        \"Skiles Walks\"   Suite 351       \"Roscoeview\"       33263    \n",
       "5   \"Norberto Crossing\"    Apt. 950    \"South Christy\"  23505-1337    \n",
       "6           \"Rex Trail\"   Suite 280        \"Howemouth\"  58804-1099    \n",
       "7    \"Ellsworth Summit\"   Suite 729        \"Aliyaview\"       45169    \n",
       "8          \"Dayna Park\"   Suite 449   \"Bartholomebury\"  76495-3109    \n",
       "9     \"Kattie Turnpike\"   Suite 198      \"Lebsackbury\"  31428-2261    \n",
       "\n",
       "       geo_lat   geo_lng                     phone  \n",
       "0   \"-37.3159\"   81.1496   \"1-770-736-8031 x56442\"  \n",
       "1   \"-43.9509\"  -34.4618     \"010-692-6593 x09125\"  \n",
       "2   \"-68.6102\"  -47.0653          \"1-463-123-4447\"  \n",
       "3    \"29.4572\" -164.2990       \"493-170-9623 x156\"  \n",
       "4   \"-31.8129\"   62.5342           \"(254)954-1289\"  \n",
       "5   \"-71.4197\"   71.7478    \"1-477-935-8478 x6430\"  \n",
       "6    \"24.8918\"   21.8984            \"210.067.6132\"  \n",
       "7   \"-14.3990\" -120.7677       \"586.493.6943 x140\"  \n",
       "8    \"24.6463\" -168.8889    \"(775)976-6794 x41206\"  \n",
       "9   \"-38.2386\"   57.2232            \"024-648-3804\"  "
      ]
     },
     "execution_count": 201,
     "metadata": {},
     "output_type": "execute_result"
    }
   ],
   "source": [
    "pd.read_csv('users_info.csv')"
   ]
  },
  {
   "cell_type": "code",
   "execution_count": null,
   "metadata": {},
   "outputs": [],
   "source": []
  }
 ],
 "metadata": {
  "kernelspec": {
   "display_name": "machine_learning",
   "language": "python",
   "name": "python3"
  },
  "language_info": {
   "codemirror_mode": {
    "name": "ipython",
    "version": 3
   },
   "file_extension": ".py",
   "mimetype": "text/x-python",
   "name": "python",
   "nbconvert_exporter": "python",
   "pygments_lexer": "ipython3",
   "version": "3.9.19"
  }
 },
 "nbformat": 4,
 "nbformat_minor": 2
}
