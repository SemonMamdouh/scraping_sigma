{
 "cells": [
  {
   "cell_type": "code",
   "execution_count": 2,
   "metadata": {},
   "outputs": [],
   "source": [
    "import requests\n",
    "from bs4 import BeautifulSoup"
   ]
  },
  {
   "cell_type": "code",
   "execution_count": 3,
   "metadata": {},
   "outputs": [],
   "source": [
    "res = requests.get('https://www.sigma-computer.com/subcategory?id=2&id2=40&page=1')"
   ]
  },
  {
   "cell_type": "code",
   "execution_count": 12,
   "metadata": {},
   "outputs": [
    {
     "name": "stdout",
     "output_type": "stream",
     "text": [
      "true\n"
     ]
    }
   ],
   "source": [
    "if res :\n",
    "    print('true')"
   ]
  },
  {
   "cell_type": "code",
   "execution_count": 13,
   "metadata": {},
   "outputs": [],
   "source": [
    "soup = BeautifulSoup(res.text , 'html.parser')"
   ]
  },
  {
   "cell_type": "code",
   "execution_count": 14,
   "metadata": {},
   "outputs": [
    {
     "data": {
      "text/plain": [
       "bs4.BeautifulSoup"
      ]
     },
     "execution_count": 14,
     "metadata": {},
     "output_type": "execute_result"
    }
   ],
   "source": [
    "type(soup)"
   ]
  },
  {
   "cell_type": "code",
   "execution_count": 15,
   "metadata": {},
   "outputs": [],
   "source": [
    "all_divs = soup.find_all('div' , attrs={'class':'product-layout col-lg-15 col-md-4 col-sm-6 col-xs-6'})"
   ]
  },
  {
   "cell_type": "code",
   "execution_count": 16,
   "metadata": {},
   "outputs": [
    {
     "data": {
      "text/plain": [
       "30"
      ]
     },
     "execution_count": 16,
     "metadata": {},
     "output_type": "execute_result"
    }
   ],
   "source": [
    "len(all_divs)"
   ]
  },
  {
   "cell_type": "code",
   "execution_count": 19,
   "metadata": {},
   "outputs": [
    {
     "data": {
      "text/plain": [
       "'https://www.sigma-computer.com/item?id=7420&name=GIGABYTE_G6X_9KG_-_Intel_Core_i7_13650HX_-_NVIDIA_RTX_4060_8GB_GDDR6_-_16GB_DDR5_4800MHz_-_512GB_M.2_SSD_-_16_WUXGA_1920x1200_165Hz_-_DOS'"
      ]
     },
     "execution_count": 19,
     "metadata": {},
     "output_type": "execute_result"
    }
   ],
   "source": [
    "link = 'https://www.sigma-computer.com/' + all_divs[24].find('div' ,attrs = {'class' :'caption hide-cont'}).find('a')['href']\n",
    "link"
   ]
  },
  {
   "cell_type": "code",
   "execution_count": 20,
   "metadata": {},
   "outputs": [],
   "source": [
    "re = requests.get(link)"
   ]
  },
  {
   "cell_type": "code",
   "execution_count": 21,
   "metadata": {},
   "outputs": [
    {
     "data": {
      "text/plain": [
       "<Response [200]>"
      ]
     },
     "execution_count": 21,
     "metadata": {},
     "output_type": "execute_result"
    }
   ],
   "source": [
    "re"
   ]
  },
  {
   "cell_type": "code",
   "execution_count": 22,
   "metadata": {},
   "outputs": [],
   "source": [
    "soup1 = BeautifulSoup(re.text , 'html.parser')"
   ]
  },
  {
   "cell_type": "code",
   "execution_count": 23,
   "metadata": {},
   "outputs": [
    {
     "data": {
      "text/plain": [
       "<div class=\"content-product-right col-md-7 col-sm-12 col-xs-12\">\n",
       "<div class=\"title-product\">\n",
       "<h1>GIGABYTE G6X 9KG - Intel Core i7 13650HX - NVIDIA RTX 4060 8GB GDDR6 - 16GB DDR5 4800MHz - 512GB M.2 SSD - 16 WUXGA 1920x1200 165Hz - DOS</h1>\n",
       "</div>\n",
       "<!-- Review ---->\n",
       "<div class=\"box-review form-group\">\n",
       "<!--\n",
       "\t\t\t\t\t\t\t\t<div class=\"ratings\">\n",
       "\t\t\t\t\t\t\t\t\t<div class=\"rating-box\">\n",
       "\t\t\t\t\t\t\t\t\t\t<span class=\"fa fa-stack\"><i class=\"fa fa-star-o fa-stack-1x\"></i></span>\n",
       "\t\t\t\t\t\t\t\t\t\t<span class=\"fa fa-stack\"><i class=\"fa fa-star-o fa-stack-1x\"></i></span>\n",
       "\t\t\t\t\t\t\t\t\t\t<span class=\"fa fa-stack\"><i class=\"fa fa-star-o fa-stack-1x\"></i></span>\n",
       "\t\t\t\t\t\t\t\t\t\t<span class=\"fa fa-stack\"><i class=\"fa fa-star-o fa-stack-1x\"></i></span>\n",
       "\t\t\t\t\t\t\t\t\t\t<span class=\"fa fa-stack\"><i class=\"fa fa-star-o fa-stack-1x\"></i></span>\n",
       "\t\t\t\t\t\t\t\t\t</div>\n",
       "\t\t\t\t\t\t\t\t</div>\n",
       "                                      -->\n",
       "<a class=\"reviews_button\" href=\"\" onclick=\"$('a[href=\\'#tab-review\\']').trigger('click'); return false;\"> reviews</a>\t|\n",
       "\t\t\t\t\t\t\t\t<a class=\"write_review_button\" href=\"\" onclick=\"$('a[href=\\'#tab-review\\']').trigger('click'); return false;\"><span class=\"order-nums\">Write a review</span> </a>\n",
       "</div>\n",
       "<div class=\"product-label form-group\">\n",
       "<div class=\"product_page_price price\" itemprop=\"offerDetails\" itemscope=\"\" itemtype=\"\">\n",
       "<span class=\"price-new\" itemprop=\"price\" style=\"font-size: larger;\">52999 LE</span>\n",
       "</div>\n",
       "<div class=\"stock\"><span>Availability:</span> <span class=\"status-stock\">In Stock</span><span style=\"color : #FF6600\"> only 1 item left</span></div>\n",
       "<span class=\"order-num\">shipped by  (sigma)</span>\n",
       "</div>\n",
       "<div class=\"product-box-desc\">\n",
       "<div class=\"stock\" style=\"float: right;color: #5cb85c;\"><span style=\"font-size: 25px;font-weight: bold;\">Point:</span> <span class=\"order-nums\" style=\"font-size: 25px;font-weight: bold;padding: 13px;    border-radius: 20%;\">50</span></div><br/>\n",
       "<div class=\"inner-box-desc\">\n",
       "<div class=\"brand\"> <h3 class=\"modtitle\"><span>Brand :</span><a href=\"brand?id=15\"> Gigabyte</a>\n",
       "<a href=\"brand?id=15\">\n",
       "<img alt=\"brand\" src=\"image/brands/1559034696.jpg\" style=\"height: 100px;\"/>\n",
       "</a>\n",
       "</h3> </div>\n",
       "<div class=\"model\"><h3 class=\"modtitle\"><span>Model : </span><a href=\"#\">G6X 9KG</a></h3> </div>\n",
       "<div class=\"model\"><h3 class=\"modtitle\"><span>Seller : </span><a href=\"#\">sigma</a></h3> </div>\n",
       "<div class=\"model\"><h3 class=\"modtitle\"><span>Viewed : </span> <i class=\"fa fa-eye\" style=\"font-size: 15px;\"></i> 3910 items</h3> </div>\n",
       "<h3 class=\"modtitle\">\n",
       "<p><em><strong>ضمــــان سنتيــــن</strong></em></p>\n",
       "<p><strong>GIGABYTE G6X 9KG</strong> laptop:</p>\n",
       "<ul>\n",
       "<li><strong>Processor</strong>: Intel® Core™ i7-13650HX (14 cores, 20 threads, up to 4.9 GHz)</li>\n",
       "<li><strong>Graphics</strong>: NVIDIA® GeForce RTX™ 4060 (8GB GDDR6)</li>\n",
       "<li><strong>Display</strong>: 16.0\" WUXGA (1920x1200), 165Hz, 16:10 aspect ratio</li>\n",
       "<li><strong>Memory</strong>: 16GB DDR5 (upgradable to 64GB)</li>\n",
       "<li><strong>Storage</strong>: 512GB M.2 SSD (2x M.2 slots, supports up to 4TB)</li>\n",
       "<li><strong>Keyboard</strong>: RGB Backlit, 1.5mm key travel</li>\n",
       "<li><strong>Ports</strong>: USB Type-A, Type-C, HDMI 2.1, RJ-45, Audio jack</li>\n",
       "<li><strong>Connectivity</strong>: Wi-Fi 6E, Bluetooth 5.2</li>\n",
       "<li><strong>Battery</strong>: 73Wh, 180W AC Adapter</li>\n",
       "<li><strong>Weight</strong>: ~2.5 kg (~5.64 lbs)</li>\n",
       "<li><strong>Security</strong>: TPM, Kensington Lock Slot</li>\n",
       "</ul>\n",
       "<div class=\"NIGHTEYE_BlueFilter NIGHTEYE_Filter\"> </div>\n",
       "<div class=\"NIGHTEYE_YellowFilter NIGHTEYE_Filter\"> </div>\n",
       "<div class=\"NIGHTEYE_DimFilter NIGHTEYE_Filter\"> </div>\n",
       "</h3>\n",
       "</div>\n",
       "</div>\n",
       "<div id=\"product\">\n",
       "<div class=\"form-group box-info-product\">\n",
       "<div class=\"cart\" style=\" width: 100%;\">\n",
       "<button class=\"btn btn-mega btn-lg\" data-loading-text=\"Loading...\" data-original-title=\"Add to Cart\" data-toggle=\"tooltip\" id=\"button-cart\" onclick=\"cart.add('7420 ','1','image/products/1731298180.webp','GIGABYTE G6X 9KG - Intel Core i7 13650HX - NVIDIA RTX 4060 8GB GDDR6 - 16GB DDR5 4800MHz - 512GB M.2 SSD - 16 WUXGA 1920x1200 165Hz - DOS','52999','1')\" style=\"background: #58a3da;color:#fff; width: 100%;\" title=\"\" value=\"Add to Cart\">\n",
       "<i class=\"fa fa-shopping-cart\"></i> Add to Cart\n",
       "</button>\n",
       "</div>\n",
       "<div class=\"add-to-links wish_comp\">\n",
       "<ul class=\"blank list-inline\" style=\"width: 100%;margin-top: 2%;\">\n",
       "<li class=\"wishlist\" style=\"width: 50%;float: left;\">\n",
       "<button class=\"btn btn-mega btn-lg\" data-loading-text=\"Loading...\" data-original-title=\"Wishlist\" data-toggle=\"tooltip\" id=\"button-cart\" onclick=\"wishlist.add('7420 ','image/products/1731298180.webp','GIGABYTE G6X 9KG - Intel Core i7 13650HX - NVIDIA RTX 4060 8GB GDDR6 - 16GB DDR5 4800MHz - 512GB M.2 SSD - 16 WUXGA 1920x1200 165Hz - DOS')\" style=\"background: #5cb85c;color:#fff;width: 100%\" title=\"\" value=\"wishlist\">\n",
       "<i class=\"fa fa-heart\"></i> Wishlist\n",
       "</button>\n",
       "</li>\n",
       "<li class=\"compare\" style=\"width: 50%;\">\n",
       "<button class=\"btn btn-mega btn-lg\" data-loading-text=\"Loading...\" data-original-title=\"Compare\" data-toggle=\"tooltip\" id=\"button-cart\" onclick=\"compare.add('7420 ','image/products/1731298180.webp','GIGABYTE G6X 9KG - Intel Core i7 13650HX - NVIDIA RTX 4060 8GB GDDR6 - 16GB DDR5 4800MHz - 512GB M.2 SSD - 16 WUXGA 1920x1200 165Hz - DOS')\" style=\"background: #738a8d;color:#fff;width: 100%\" title=\"\" value=\"compare\">\n",
       "<i class=\"fa fa-exchange\"></i> Compare\n",
       "</button>\n",
       "</li>\n",
       "</ul>\n",
       "</div>\n",
       "<!-- ADDTHIS BUTTON BEGIN -->\n",
       "<center>\n",
       "<div class=\"addthis_sharing_toolbox\" style=\" margin-top: 5%\"></div>\n",
       "</center>\n",
       "</div>\n",
       "</div>\n",
       "<!-- end box info product -->\n",
       "</div>"
      ]
     },
     "execution_count": 23,
     "metadata": {},
     "output_type": "execute_result"
    }
   ],
   "source": [
    "content_div = soup1.find('div' , attrs = {'class':'content-product-right col-md-7 col-sm-12 col-xs-12'})\n",
    "content_div\n"
   ]
  },
  {
   "cell_type": "code",
   "execution_count": 24,
   "metadata": {},
   "outputs": [],
   "source": [
    "product_type = 'Notebook'product_type = 'Notebook'"
   ]
  },
  {
   "cell_type": "code",
   "execution_count": 25,
   "metadata": {},
   "outputs": [
    {
     "data": {
      "text/plain": [
       "'GIGABYTE G6X 9KG - Intel Core i7 13650HX - NVIDIA RTX 4060 8GB GDDR6 - 16GB DDR5 4800MHz - 512GB M.2 SSD - 16 WUXGA 1920x1200 165Hz - DOS'"
      ]
     },
     "execution_count": 25,
     "metadata": {},
     "output_type": "execute_result"
    }
   ],
   "source": [
    "title_product = content_div.find('div' , attrs = {'class' :'title-product'}).text.replace('\\n','')\n",
    "title_product"
   ]
  },
  {
   "cell_type": "code",
   "execution_count": 26,
   "metadata": {},
   "outputs": [
    {
     "data": {
      "text/plain": [
       "'52999 LE'"
      ]
     },
     "execution_count": 26,
     "metadata": {},
     "output_type": "execute_result"
    }
   ],
   "source": [
    "price = content_div.find('div' , attrs = {'class':'product_page_price price'}).text.replace('\\n', '')\n",
    "price"
   ]
  },
  {
   "cell_type": "code",
   "execution_count": 27,
   "metadata": {},
   "outputs": [
    {
     "data": {
      "text/plain": [
       "'G6X 9KG'"
      ]
     },
     "execution_count": 27,
     "metadata": {},
     "output_type": "execute_result"
    }
   ],
   "source": [
    "model = content_div.find('div' , attrs = {'class':'model'}).text.split(\":\")[1].strip()\n",
    "model"
   ]
  },
  {
   "cell_type": "code",
   "execution_count": 28,
   "metadata": {},
   "outputs": [
    {
     "data": {
      "text/plain": [
       "'in stock'"
      ]
     },
     "execution_count": 28,
     "metadata": {},
     "output_type": "execute_result"
    }
   ],
   "source": [
    "if content_div.find('span' , attrs = {'class' :'status-stock'}) :\n",
    "    \n",
    "    avaliability = 'in stock'\n",
    "else :\n",
    "    avaliability = 'out of stock'\n",
    "\n",
    "avaliability"
   ]
  },
  {
   "cell_type": "code",
   "execution_count": 29,
   "metadata": {},
   "outputs": [
    {
     "data": {
      "text/plain": [
       "[<h3 class=\"modtitle\"><span>Brand :</span><a href=\"brand?id=15\"> Gigabyte</a>\n",
       " <a href=\"brand?id=15\">\n",
       " <img alt=\"brand\" src=\"image/brands/1559034696.jpg\" style=\"height: 100px;\"/>\n",
       " </a>\n",
       " </h3>,\n",
       " <h3 class=\"modtitle\"><span>Model : </span><a href=\"#\">G6X 9KG</a></h3>,\n",
       " <h3 class=\"modtitle\"><span>Seller : </span><a href=\"#\">sigma</a></h3>,\n",
       " <h3 class=\"modtitle\"><span>Viewed : </span> <i class=\"fa fa-eye\" style=\"font-size: 15px;\"></i> 3910 items</h3>,\n",
       " <h3 class=\"modtitle\">\n",
       " <p><em><strong>ضمــــان سنتيــــن</strong></em></p>\n",
       " <p><strong>GIGABYTE G6X 9KG</strong> laptop:</p>\n",
       " <ul>\n",
       " <li><strong>Processor</strong>: Intel® Core™ i7-13650HX (14 cores, 20 threads, up to 4.9 GHz)</li>\n",
       " <li><strong>Graphics</strong>: NVIDIA® GeForce RTX™ 4060 (8GB GDDR6)</li>\n",
       " <li><strong>Display</strong>: 16.0\" WUXGA (1920x1200), 165Hz, 16:10 aspect ratio</li>\n",
       " <li><strong>Memory</strong>: 16GB DDR5 (upgradable to 64GB)</li>\n",
       " <li><strong>Storage</strong>: 512GB M.2 SSD (2x M.2 slots, supports up to 4TB)</li>\n",
       " <li><strong>Keyboard</strong>: RGB Backlit, 1.5mm key travel</li>\n",
       " <li><strong>Ports</strong>: USB Type-A, Type-C, HDMI 2.1, RJ-45, Audio jack</li>\n",
       " <li><strong>Connectivity</strong>: Wi-Fi 6E, Bluetooth 5.2</li>\n",
       " <li><strong>Battery</strong>: 73Wh, 180W AC Adapter</li>\n",
       " <li><strong>Weight</strong>: ~2.5 kg (~5.64 lbs)</li>\n",
       " <li><strong>Security</strong>: TPM, Kensington Lock Slot</li>\n",
       " </ul>\n",
       " <div class=\"NIGHTEYE_BlueFilter NIGHTEYE_Filter\"> </div>\n",
       " <div class=\"NIGHTEYE_YellowFilter NIGHTEYE_Filter\"> </div>\n",
       " <div class=\"NIGHTEYE_DimFilter NIGHTEYE_Filter\"> </div>\n",
       " </h3>]"
      ]
     },
     "execution_count": 29,
     "metadata": {},
     "output_type": "execute_result"
    }
   ],
   "source": [
    "model_details = content_div.find_all('h3' ,attrs ={'class' :'modtitle'})\n",
    "model_details"
   ]
  },
  {
   "cell_type": "code",
   "execution_count": 30,
   "metadata": {},
   "outputs": [
    {
     "data": {
      "text/plain": [
       "'Gigabyte'"
      ]
     },
     "execution_count": 30,
     "metadata": {},
     "output_type": "execute_result"
    }
   ],
   "source": [
    "brand = model_details[0].find('a').text.strip()\n",
    "brand"
   ]
  },
  {
   "cell_type": "code",
   "execution_count": 31,
   "metadata": {},
   "outputs": [
    {
     "data": {
      "text/plain": [
       "'3910'"
      ]
     },
     "execution_count": 31,
     "metadata": {},
     "output_type": "execute_result"
    }
   ],
   "source": [
    "views= model_details[3].text.split(':')[1].strip().split()[0]\n",
    "views"
   ]
  },
  {
   "cell_type": "code",
   "execution_count": 32,
   "metadata": {},
   "outputs": [
    {
     "data": {
      "text/plain": [
       "[<li><strong>Processor</strong>: Intel® Core™ i7-13650HX (14 cores, 20 threads, up to 4.9 GHz)</li>,\n",
       " <li><strong>Graphics</strong>: NVIDIA® GeForce RTX™ 4060 (8GB GDDR6)</li>,\n",
       " <li><strong>Display</strong>: 16.0\" WUXGA (1920x1200), 165Hz, 16:10 aspect ratio</li>,\n",
       " <li><strong>Memory</strong>: 16GB DDR5 (upgradable to 64GB)</li>,\n",
       " <li><strong>Storage</strong>: 512GB M.2 SSD (2x M.2 slots, supports up to 4TB)</li>,\n",
       " <li><strong>Keyboard</strong>: RGB Backlit, 1.5mm key travel</li>,\n",
       " <li><strong>Ports</strong>: USB Type-A, Type-C, HDMI 2.1, RJ-45, Audio jack</li>,\n",
       " <li><strong>Connectivity</strong>: Wi-Fi 6E, Bluetooth 5.2</li>,\n",
       " <li><strong>Battery</strong>: 73Wh, 180W AC Adapter</li>,\n",
       " <li><strong>Weight</strong>: ~2.5 kg (~5.64 lbs)</li>,\n",
       " <li><strong>Security</strong>: TPM, Kensington Lock Slot</li>]"
      ]
     },
     "execution_count": 32,
     "metadata": {},
     "output_type": "execute_result"
    }
   ],
   "source": [
    "info =model_details[-1].find_all('li')\n",
    "info"
   ]
  },
  {
   "cell_type": "code",
   "execution_count": 34,
   "metadata": {},
   "outputs": [
    {
     "name": "stdout",
     "output_type": "stream",
     "text": [
      "Processor: Processor: Intel® Core™ i7-13650HX (14 cores, 20 threads, up to 4.9 GHz)\n",
      "OS: None\n",
      "Memory: Memory: 16GB DDR5 (upgradable to 64GB)\n",
      "Graphics: Graphics: NVIDIA® GeForce RTX™ 4060 (8GB GDDR6)\n"
     ]
    }
   ],
   "source": [
    "words1 = ['Processor:' ,'Core' , 'Cpu:' ,'Intel']\n",
    "words2 = ['Operating',  'System:' ,'OS' ]\n",
    "words4 =['Graphics Card:','NVIDIA' , 'Gpu:' , 'Graphics','VRAM']\n",
    "words3 =['RAM:' , 'Memory']\n",
    "\n",
    "fprocessor = None\n",
    "os = None\n",
    "memory = None\n",
    "graphics = None\n",
    "\n",
    "for i in range(len(info)):\n",
    "    text = info[i].text.replace('\\n', '').strip('\\n')\n",
    "    \n",
    "    if any(word in text for word in words1):\n",
    "        processor = text\n",
    "    elif any(word in text for word in words2):\n",
    "        os = text\n",
    "    elif any(word in text for word in words3):\n",
    "        memory = text\n",
    "    elif any(word in text for word in words4):\n",
    "        graphics = text\n",
    "    else:\n",
    "        # Handle cases where no words are found\n",
    "        if processor is None:\n",
    "            processor = \"None\"\n",
    "        if os is None:\n",
    "            os = \"None\"\n",
    "        if memory is None:\n",
    "            memory = \"None\"\n",
    "        if graphics is None:\n",
    "            graphics = \"None\"\n",
    "\n",
    "# Output the results\n",
    "print(\"Processor:\", processor)\n",
    "print(\"OS:\", os)\n",
    "print(\"Memory:\", memory)\n",
    "print(\"Graphics:\", graphics)\n"
   ]
  },
  {
   "cell_type": "code",
   "execution_count": 7,
   "metadata": {},
   "outputs": [
    {
     "name": "stdout",
     "output_type": "stream",
     "text": [
      "scraping_page 1\n",
      "scraping_page 2\n",
      "scraping_page 3\n",
      "scraping_page 4\n",
      "scraping_page 5\n",
      "scraping_page 6\n",
      "scraping_page 7\n",
      "scraping_page 8\n",
      "scraping_page 9\n",
      "scraping_page 10\n",
      "scraping_page 11\n",
      "scraping_page 12\n",
      "scraping_page 13\n",
      "scraping_page 14\n",
      "scraping_page 15\n",
      "scraping_page 16\n",
      "scraping_page 17\n",
      "scraping_page 18\n",
      "scraping_page 19\n",
      "scraping_page 20\n",
      "scraping_page 21\n",
      "scraping_page 22\n",
      "scraping_page 23\n",
      "scraping_page 24\n",
      "scraping_page 25\n",
      "scraping_page 26\n",
      "scraping_page 27\n",
      "scraping_page 28\n",
      "scraping_page 29\n",
      "scraping_page 30\n",
      "scraping_page 31\n",
      "scraping_page 32\n"
     ]
    }
   ],
   "source": [
    "\n",
    "with open ('collect_data.csv' , mode = 'w' , encoding = 'utf_8') as fd :\n",
    "    # header\n",
    "    fd.write ( 'product_type , model , prand ,price ,availability ,views, title_product , processor , memory  , graphics\\n' ) \n",
    "    # pagination\n",
    "    for j in range(32) :\n",
    "        print(f'scraping_page {j+1}')\n",
    "        res = requests.get('https://www.sigma-computer.com/subcategory?id=2&id2=40&page={j}')\n",
    "        soup = BeautifulSoup(res.text , 'html.parser')\n",
    "        all_divs = soup.find_all('div' , attrs={'class':'product-layout col-lg-15 col-md-4 col-sm-6 col-xs-6'})\n",
    "        \n",
    "        for i in range(len(all_divs)) :\n",
    "\n",
    "            # request too link of product\n",
    "            link = 'https://www.sigma-computer.com/' + all_divs[i].find('div' ,attrs = {'class' :'caption hide-cont'}).find('a')['href']\n",
    "            while True :\n",
    "                re =requests.get(link)\n",
    "                if re  :\n",
    "                    break\n",
    "                \n",
    "            soup1 = BeautifulSoup(re.text , 'html.parser')\n",
    "            content_div = soup1.find('div' , attrs = {'class':'content-product-right col-md-7 col-sm-12 col-xs-12'})\n",
    "\n",
    "            # get product info\n",
    "            title_product = content_div.find('div' , attrs = {'class' :'title-product'}).text.replace('\\n','')\n",
    "\n",
    "            # product_type\n",
    "            product_type = 'Notebook'\n",
    "\n",
    "            # model\n",
    "            model = content_div.find('div' , attrs = {'class':'model'}).text.split(\":\")[1].strip()\n",
    "\n",
    "            # prand\n",
    "            model_details = content_div.find_all('h3' ,attrs ={'class' :'modtitle'})\n",
    "            brand = model_details[0].find('a').text.strip()\n",
    "\n",
    "            # price\n",
    "            price = content_div.find('div' , attrs = {'class':'product_page_price price'}).text.replace('\\n', '')\n",
    "            \n",
    "            # availability\n",
    "            if content_div.find('span' , attrs = {'class' :'status-stock'}) :\n",
    "                avaliability = 'in stock'\n",
    "            else :\n",
    "                avaliability = 'out of stock'\n",
    "\n",
    "            #views \n",
    "            views= model_details[3].text.split(':')[1].strip().split()[0]\n",
    "\n",
    "            info =model_details[-1].find_all('li')\n",
    "\n",
    "            words1 = ['Processor:' ,'Core' , 'Cpu:' ,'Intel']\n",
    "            words2 =['Graphics Card:','NVIDIA' , 'Gpu:' , 'Graphics','VRAM']\n",
    "            words3 =['RAM:' , 'Memory']\n",
    "\n",
    "            processor = None\n",
    "            os = None\n",
    "            memory = None\n",
    "            graphics = None\n",
    "\n",
    "            for i in range(len(info)):\n",
    "                text = info[i].text.replace('\\n', '').strip('\\n')\n",
    "                \n",
    "                if any(word in text for word in words1):\n",
    "                    processor = text\n",
    "                elif any(word in text for word in words3):\n",
    "                    memory = text\n",
    "                elif any(word in text for word in words2):\n",
    "                    graphics = text\n",
    "                else:\n",
    "                    \n",
    "                    if processor is None:\n",
    "                        processor = \"None\"\n",
    "                    if os is None:\n",
    "                        os = \"None\"\n",
    "                    if memory is None:\n",
    "                        memory = \"None\"\n",
    "                    if graphics is None:\n",
    "                        graphics = \"None\"\n",
    "\n",
    "            fd.write(f' \"{product_type}\",\"{model}\",\"{brand}\",\"{price}\",\"{avaliability}\",\"{views}\",\"{title_product}\",\"{processor}\",\"{memory}\",\"{graphics}\"\\n')\n",
    "\n"
   ]
  },
  {
   "cell_type": "code",
   "execution_count": 9,
   "metadata": {},
   "outputs": [
    {
     "data": {
      "text/html": [
       "<div>\n",
       "<style scoped>\n",
       "    .dataframe tbody tr th:only-of-type {\n",
       "        vertical-align: middle;\n",
       "    }\n",
       "\n",
       "    .dataframe tbody tr th {\n",
       "        vertical-align: top;\n",
       "    }\n",
       "\n",
       "    .dataframe thead th {\n",
       "        text-align: right;\n",
       "    }\n",
       "</style>\n",
       "<table border=\"1\" class=\"dataframe\">\n",
       "  <thead>\n",
       "    <tr style=\"text-align: right;\">\n",
       "      <th></th>\n",
       "      <th>product_type</th>\n",
       "      <th>model</th>\n",
       "      <th>prand</th>\n",
       "      <th>price</th>\n",
       "      <th>availability</th>\n",
       "      <th>views</th>\n",
       "      <th>title_product</th>\n",
       "      <th>processor</th>\n",
       "      <th>memory</th>\n",
       "      <th>graphics</th>\n",
       "    </tr>\n",
       "  </thead>\n",
       "  <tbody>\n",
       "    <tr>\n",
       "      <th>0</th>\n",
       "      <td>\"Notebook\"</td>\n",
       "      <td>83DV00YRAX</td>\n",
       "      <td>Lenovo</td>\n",
       "      <td>42199 LE</td>\n",
       "      <td>in stock</td>\n",
       "      <td>434</td>\n",
       "      <td>Lenovo LOQ 15IRX9 - 83DV00YRAX Intel Core i7-...</td>\n",
       "      <td>Processor: Intel® Core™ i7-13650HX (14C, 20T, ...</td>\n",
       "      <td>Memory: 24GB DDR5-4800 (upgradable to 32GB)</td>\n",
       "      <td>Graphics: NVIDIA® GeForce RTX™ 3050, 6GB GDDR6</td>\n",
       "    </tr>\n",
       "    <tr>\n",
       "      <th>1</th>\n",
       "      <td>\"Notebook\"</td>\n",
       "      <td>r1062ne</td>\n",
       "      <td>HP</td>\n",
       "      <td>43999 LE</td>\n",
       "      <td>in stock</td>\n",
       "      <td>1004</td>\n",
       "      <td>HP Victus16-r1062ne Intel Core i5 14450HX-RTX ...</td>\n",
       "      <td>Cores/Threads: 10 cores (6 performance cores +...</td>\n",
       "      <td>RAM: 16GB DDR5 (2 x 8GB modules) with a blazin...</td>\n",
       "      <td>Graphics Card: NVIDIA GeForce RTX 3050 with 6G...</td>\n",
       "    </tr>\n",
       "    <tr>\n",
       "      <th>2</th>\n",
       "      <td>\"Notebook\"</td>\n",
       "      <td>r1066ne</td>\n",
       "      <td>HP</td>\n",
       "      <td>43499 LE</td>\n",
       "      <td>in stock</td>\n",
       "      <td>822</td>\n",
       "      <td>HP Victus16-r1066ne Intel Core i5 14450HX-RTX ...</td>\n",
       "      <td>Cores/Threads: 10 cores (6 performance + 4 eff...</td>\n",
       "      <td>RAM: 16GB DDR5 (2 x 8GB modules) at 5600MHz\\r\\...</td>\n",
       "      <td>Graphics Card: NVIDIA GeForce RTX 3050 with 6G...</td>\n",
       "    </tr>\n",
       "    <tr>\n",
       "      <th>3</th>\n",
       "      <td>\"Notebook\"</td>\n",
       "      <td>fa1052ne</td>\n",
       "      <td>HP</td>\n",
       "      <td>34499 LE</td>\n",
       "      <td>in stock</td>\n",
       "      <td>408</td>\n",
       "      <td>HP Victus15-fa1052ne Intel Core i5 13420H-8GB ...</td>\n",
       "      <td>Processor: Intel Core i5-13420H (10 cores: 6 p...</td>\n",
       "      <td>RAM: 8GB DDR4 (3200MHz, 1 x 8GB)</td>\n",
       "      <td>Graphics Card: NVIDIA GeForce RTX 2050 (4GB VRAM)</td>\n",
       "    </tr>\n",
       "    <tr>\n",
       "      <th>4</th>\n",
       "      <td>\"Notebook\"</td>\n",
       "      <td>fa1051ne</td>\n",
       "      <td>HP</td>\n",
       "      <td>32999 LE</td>\n",
       "      <td>in stock</td>\n",
       "      <td>459</td>\n",
       "      <td>HP Victus15-fa1051ne Intel Core i5 13420H-8GB ...</td>\n",
       "      <td>Processor: Intel Core i5-13420H (4 Performance...</td>\n",
       "      <td>RAM: 8GB DDR4 3200MHz (Upgradeable for more mu...</td>\n",
       "      <td>Graphics Card: NVIDIA GeForce RTX 2050, 4GB GD...</td>\n",
       "    </tr>\n",
       "    <tr>\n",
       "      <th>...</th>\n",
       "      <td>...</td>\n",
       "      <td>...</td>\n",
       "      <td>...</td>\n",
       "      <td>...</td>\n",
       "      <td>...</td>\n",
       "      <td>...</td>\n",
       "      <td>...</td>\n",
       "      <td>...</td>\n",
       "      <td>...</td>\n",
       "      <td>...</td>\n",
       "    </tr>\n",
       "    <tr>\n",
       "      <th>925</th>\n",
       "      <td>\"Notebook\"</td>\n",
       "      <td>16X ASG</td>\n",
       "      <td>Gigabyte</td>\n",
       "      <td>85000 LE</td>\n",
       "      <td>out of stock</td>\n",
       "      <td>2854</td>\n",
       "      <td>AORUS 16X ASG Intel Core i7 14650HX - NVIDIA R...</td>\n",
       "      <td>CPU: Intel® Core™ i7-14650HX, 16 Cores 24 Thre...</td>\n",
       "      <td>RAM: 16GB DDR5 (expandable to 64GB)</td>\n",
       "      <td>GPU: NVIDIA® GeForce RTX™ 4070, 8GB GDDR6</td>\n",
       "    </tr>\n",
       "    <tr>\n",
       "      <th>926</th>\n",
       "      <td>\"Notebook\"</td>\n",
       "      <td>16X 9SG</td>\n",
       "      <td>Gigabyte</td>\n",
       "      <td>80999 LE</td>\n",
       "      <td>out of stock</td>\n",
       "      <td>1262</td>\n",
       "      <td>Gigabyte Aorus 16X 9SG 2024 Intel core i7-1365...</td>\n",
       "      <td>Processor: Intel® Core™ i7-13650HX (6 P-cores,...</td>\n",
       "      <td>Memory: 2 x DDR5 slots (up to 64GB, DDR5-4800MHz)</td>\n",
       "      <td>Graphics: NVIDIA® GeForce RTX™ 4070 Laptop GPU...</td>\n",
       "    </tr>\n",
       "    <tr>\n",
       "      <th>927</th>\n",
       "      <td>\"Notebook\"</td>\n",
       "      <td>ANV15-51-532J</td>\n",
       "      <td>ACER</td>\n",
       "      <td>35499 LE</td>\n",
       "      <td>out of stock</td>\n",
       "      <td>5427</td>\n",
       "      <td>Acer Nitro V Gaming Laptop Intel Core i5-13420...</td>\n",
       "      <td>Processor: Intel Core i5-13420H (Cores: 6 Thre...</td>\n",
       "      <td>RAM: 8GB DDR5 (Fast memory, but upgradeable fo...</td>\n",
       "      <td>GPU: NVIDIA GeForce RTX 3050 6GB version Lapto...</td>\n",
       "    </tr>\n",
       "    <tr>\n",
       "      <th>928</th>\n",
       "      <td>\"Notebook\"</td>\n",
       "      <td>Inspiron 16 7640</td>\n",
       "      <td>Dell</td>\n",
       "      <td>56999 LE</td>\n",
       "      <td>in stock</td>\n",
       "      <td>1798</td>\n",
       "      <td>Dell Inspiron 16 7640 2-in-1 laptop Intel Core...</td>\n",
       "      <td>Graphics: Intel Arc Graphics</td>\n",
       "      <td>Memory: 16GB DDR5 (6400 MHz)</td>\n",
       "      <td>NaN</td>\n",
       "    </tr>\n",
       "    <tr>\n",
       "      <th>929</th>\n",
       "      <td>\"Notebook\"</td>\n",
       "      <td>83DL0002US</td>\n",
       "      <td>Lenovo</td>\n",
       "      <td>54999 LE</td>\n",
       "      <td>in stock</td>\n",
       "      <td>2597</td>\n",
       "      <td>Lenovo Yoga 7 2-in-1 16IML9 83DL0002US Intel C...</td>\n",
       "      <td>Graphics: Integrated Intel Graphics</td>\n",
       "      <td>Memory: 16GB LPDDR5x RAM (non-upgradable)</td>\n",
       "      <td>NaN</td>\n",
       "    </tr>\n",
       "  </tbody>\n",
       "</table>\n",
       "<p>930 rows × 10 columns</p>\n",
       "</div>"
      ],
      "text/plain": [
       "    product_type             model     prand     price  availability   views  \\\n",
       "0      \"Notebook\"        83DV00YRAX    Lenovo  42199 LE      in stock    434   \n",
       "1      \"Notebook\"           r1062ne        HP  43999 LE      in stock   1004   \n",
       "2      \"Notebook\"           r1066ne        HP  43499 LE      in stock    822   \n",
       "3      \"Notebook\"          fa1052ne        HP  34499 LE      in stock    408   \n",
       "4      \"Notebook\"          fa1051ne        HP  32999 LE      in stock    459   \n",
       "..            ...               ...       ...       ...           ...    ...   \n",
       "925    \"Notebook\"           16X ASG  Gigabyte  85000 LE  out of stock   2854   \n",
       "926    \"Notebook\"           16X 9SG  Gigabyte  80999 LE  out of stock   1262   \n",
       "927    \"Notebook\"     ANV15-51-532J      ACER  35499 LE  out of stock   5427   \n",
       "928    \"Notebook\"  Inspiron 16 7640      Dell  56999 LE      in stock   1798   \n",
       "929    \"Notebook\"        83DL0002US    Lenovo  54999 LE      in stock   2597   \n",
       "\n",
       "                                        title_product   \\\n",
       "0     Lenovo LOQ 15IRX9 - 83DV00YRAX Intel Core i7-...   \n",
       "1    HP Victus16-r1062ne Intel Core i5 14450HX-RTX ...   \n",
       "2    HP Victus16-r1066ne Intel Core i5 14450HX-RTX ...   \n",
       "3    HP Victus15-fa1052ne Intel Core i5 13420H-8GB ...   \n",
       "4    HP Victus15-fa1051ne Intel Core i5 13420H-8GB ...   \n",
       "..                                                 ...   \n",
       "925  AORUS 16X ASG Intel Core i7 14650HX - NVIDIA R...   \n",
       "926  Gigabyte Aorus 16X 9SG 2024 Intel core i7-1365...   \n",
       "927  Acer Nitro V Gaming Laptop Intel Core i5-13420...   \n",
       "928  Dell Inspiron 16 7640 2-in-1 laptop Intel Core...   \n",
       "929  Lenovo Yoga 7 2-in-1 16IML9 83DL0002US Intel C...   \n",
       "\n",
       "                                            processor   \\\n",
       "0    Processor: Intel® Core™ i7-13650HX (14C, 20T, ...   \n",
       "1    Cores/Threads: 10 cores (6 performance cores +...   \n",
       "2    Cores/Threads: 10 cores (6 performance + 4 eff...   \n",
       "3    Processor: Intel Core i5-13420H (10 cores: 6 p...   \n",
       "4    Processor: Intel Core i5-13420H (4 Performance...   \n",
       "..                                                 ...   \n",
       "925  CPU: Intel® Core™ i7-14650HX, 16 Cores 24 Thre...   \n",
       "926  Processor: Intel® Core™ i7-13650HX (6 P-cores,...   \n",
       "927  Processor: Intel Core i5-13420H (Cores: 6 Thre...   \n",
       "928                       Graphics: Intel Arc Graphics   \n",
       "929                Graphics: Integrated Intel Graphics   \n",
       "\n",
       "                                              memory    \\\n",
       "0          Memory: 24GB DDR5-4800 (upgradable to 32GB)   \n",
       "1    RAM: 16GB DDR5 (2 x 8GB modules) with a blazin...   \n",
       "2    RAM: 16GB DDR5 (2 x 8GB modules) at 5600MHz\\r\\...   \n",
       "3                     RAM: 8GB DDR4 (3200MHz, 1 x 8GB)   \n",
       "4    RAM: 8GB DDR4 3200MHz (Upgradeable for more mu...   \n",
       "..                                                 ...   \n",
       "925                RAM: 16GB DDR5 (expandable to 64GB)   \n",
       "926  Memory: 2 x DDR5 slots (up to 64GB, DDR5-4800MHz)   \n",
       "927  RAM: 8GB DDR5 (Fast memory, but upgradeable fo...   \n",
       "928                       Memory: 16GB DDR5 (6400 MHz)   \n",
       "929          Memory: 16GB LPDDR5x RAM (non-upgradable)   \n",
       "\n",
       "                                              graphics  \n",
       "0       Graphics: NVIDIA® GeForce RTX™ 3050, 6GB GDDR6  \n",
       "1    Graphics Card: NVIDIA GeForce RTX 3050 with 6G...  \n",
       "2    Graphics Card: NVIDIA GeForce RTX 3050 with 6G...  \n",
       "3    Graphics Card: NVIDIA GeForce RTX 2050 (4GB VRAM)  \n",
       "4    Graphics Card: NVIDIA GeForce RTX 2050, 4GB GD...  \n",
       "..                                                 ...  \n",
       "925          GPU: NVIDIA® GeForce RTX™ 4070, 8GB GDDR6  \n",
       "926  Graphics: NVIDIA® GeForce RTX™ 4070 Laptop GPU...  \n",
       "927  GPU: NVIDIA GeForce RTX 3050 6GB version Lapto...  \n",
       "928                                                NaN  \n",
       "929                                                NaN  \n",
       "\n",
       "[930 rows x 10 columns]"
      ]
     },
     "execution_count": 9,
     "metadata": {},
     "output_type": "execute_result"
    }
   ],
   "source": [
    "import pandas as pd \n",
    "pd.read_csv('collect_data.csv')"
   ]
  },
  {
   "cell_type": "code",
   "execution_count": null,
   "metadata": {},
   "outputs": [],
   "source": []
  }
 ],
 "metadata": {
  "kernelspec": {
   "display_name": "machine_learning",
   "language": "python",
   "name": "python3"
  },
  "language_info": {
   "codemirror_mode": {
    "name": "ipython",
    "version": 3
   },
   "file_extension": ".py",
   "mimetype": "text/x-python",
   "name": "python",
   "nbconvert_exporter": "python",
   "pygments_lexer": "ipython3",
   "version": "3.9.19"
  }
 },
 "nbformat": 4,
 "nbformat_minor": 2
}
